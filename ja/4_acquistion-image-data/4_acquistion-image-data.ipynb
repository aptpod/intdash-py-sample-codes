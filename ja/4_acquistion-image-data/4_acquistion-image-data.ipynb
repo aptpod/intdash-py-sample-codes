{
 "cells": [
  {
   "cell_type": "markdown",
   "metadata": {},
   "source": [
    "# 4. 画像データを取得し、ローカルに保存する\n",
    "このケースでは、以下の方法を中心に解説します。\n",
    "\n",
    "* サーバー側に保存されたM-JPEGデータをバイナリデータとして取得する\n",
    "* 画像ファイル(.jpg)として保存する\n",
    "\n",
    "## シナリオ\n",
    "本シナリオでは、iOSアプリケーション  **Visual M2M Motion** を活用し、ストリーミングされた動画データを画像として保存します。\n",
    "\n",
    "## 事前準備\n",
    "本シナリオを実施する前に、以下を用意する必要があります。\n",
    "\n",
    "- 計測用のエッジ\n",
    "- Visual M2M Motion アプリでアップロードした計測(画像を含む)\n",
    "\n",
    "\n",
    "### 使用データ\n",
    "本シナリオでは、事前に以下のデータをサーバー側に準備する必要があります。  \n",
    "\n",
    "|データ項目|本シナリオで登場するデータ名|\n",
    "|:---|:---|\n",
    "|時系列データを登録するエッジ|sdk_edge1|\n",
    "|計測情報 (※)|measurement1|\n",
    "\n",
    "(※) 使用する時系列データは **「1. 取得した時系列データをCSVで保存する」**  と同様に、Visual M2M Motionを使用して時系列データを登録します。"
   ]
  },
  {
   "cell_type": "markdown",
   "metadata": {},
   "source": [
    "### 計測データの作成と時系列データのアップロード\n",
    "**Visual M2M Motion** を使用してデータをアップロードします。 計測を登録後、 **Visual M2M Data Visualizer** にて計測が新しく生成されたことを確認してください。"
   ]
  },
  {
   "cell_type": "markdown",
   "metadata": {},
   "source": [
    "### (補足) Visual M2M Motion の操作手順\n",
    "1. iPhoneでVisual M2M Motionを起動し、 `sdk_edge1` としてサインインする。\n",
    "2. Settings > Video にて、以下の設定を行う。\n",
    "    1. Streaming を有効にする。\n",
    "    2. Save to server を有効にする。\n",
    "    3. Codec をJPEGに設定する。\n",
    "3. Main画面に戻り、画面中央の▶をタップする。\n",
    "4. 計測が開始した画面を確認する。\n",
    "5. ■をタップし、計測を終了する。"
   ]
  },
  {
   "cell_type": "markdown",
   "metadata": {},
   "source": [
    "VM2M Data Viz の 「Stored Data」に計測が表示されていれば完了です。\n",
    "\n",
    "<img src=\"https://github.com/aptpod/intdash-py-sample-codes/blob/master/img/img1.png?raw=true\">"
   ]
  },
  {
   "cell_type": "markdown",
   "metadata": {},
   "source": [
    "### パッケージのimportとクライアントの生成\n",
    "`intdash.Client` に与える `url` は intdashサーバーの環境情報から、 `edge_token` はログイン用エッジで発行したトークンを指定してください。  \n",
    "(※ `username` と `password` でのログインも可能ですが、継続して動作する場合はエッジトークンの使用を推奨します)"
   ]
  },
  {
   "cell_type": "code",
   "execution_count": 8,
   "metadata": {},
   "outputs": [],
   "source": [
    "import pandas as pd\n",
    "\n",
    "import intdash\n",
    "from intdash import timeutils\n",
    "\n",
    "# Create client\n",
    "client = intdash.Client(\n",
    "    url = \"https://example.intdash.jp\",\n",
    "    edge_token = \"your_token\",\n",
    ")"
   ]
  },
  {
   "cell_type": "markdown",
   "metadata": {},
   "source": [
    "これで、事前準備は終了です。"
   ]
  },
  {
   "cell_type": "markdown",
   "metadata": {},
   "source": [
    "## 計測に使用したエッジを取得する"
   ]
  },
  {
   "cell_type": "code",
   "execution_count": 9,
   "metadata": {},
   "outputs": [],
   "source": [
    "edges = client.edges.list(name='sdk_edge1')\n",
    "sdk_edge1 = edges[0]"
   ]
  },
  {
   "cell_type": "code",
   "execution_count": 10,
   "metadata": {},
   "outputs": [
    {
     "data": {
      "text/plain": [
       "'sdk_edge1'"
      ]
     },
     "execution_count": 10,
     "metadata": {},
     "output_type": "execute_result"
    }
   ],
   "source": [
    "sdk_edge1.name"
   ]
  },
  {
   "cell_type": "markdown",
   "metadata": {},
   "source": [
    "## 時系列データを取得する\n",
    "本シナリオでは、時系列データの取得には `client.data_points` エンドポイントを使用します。  信号定義からデータを取得する場合は ``labels`` を指定しますが、本ケースでは信号定義を使用しないため、 `id_queries` で取得します。  \n",
    "`start` および `end` は前述の手順で作成した計測を含む時刻に変更してください。\n",
    "\n",
    "※通常は ``data_id`` を指定しますが、JPEGデータの場合は ``data_id`` が固定されているため指定する必要はありません。詳細は、ドキュメント記載の [intdash.data.Jpeg](https://docs.intdash.jp/sdk/python/latest/ja/data.html#intdash.intdash.data.JPEG)を確認してください。"
   ]
  },
  {
   "cell_type": "code",
   "execution_count": 11,
   "metadata": {},
   "outputs": [],
   "source": [
    "dps = client.data_points.list(\n",
    "    edge_name='sdk_edge1',\n",
    "    start=timeutils.str2timestamp('2020-07-17 00:00:00+09:00'), # change appropriately.\n",
    "    end=timeutils.str2timestamp('2020-07-18 00:00:00+09:00'), # change appropriately.\n",
    "    id_queries=[\n",
    "        intdash.IdQuery(\n",
    "            data_type=intdash.DataType.jpeg,\n",
    "            channel=1\n",
    "        )\n",
    "    ]\n",
    ")"
   ]
  },
  {
   "cell_type": "markdown",
   "metadata": {},
   "source": [
    "## 取得したデータを画像ファイルとして保存する\n",
    "取得したバイナリデータを、そのままJPEGとして保存します。\n",
    "ここではサンプルとして、取得した時系列データのうち、最初のデータポイントのみを保存します。"
   ]
  },
  {
   "cell_type": "code",
   "execution_count": 20,
   "metadata": {},
   "outputs": [],
   "source": [
    "data = dps[0]  #  Specifies first data.\n",
    "\n",
    "# Define the file name as a timestamp.\n",
    "with open(f'./{pd.Timestamp(data.time).value}.jpg', 'wb') as fout:\n",
    "    fout.write(data.data_payload)"
   ]
  },
  {
   "cell_type": "markdown",
   "metadata": {},
   "source": [
    "全時系列データを保存したい場合は、上記を繰り返します。"
   ]
  },
  {
   "cell_type": "code",
   "execution_count": 22,
   "metadata": {},
   "outputs": [],
   "source": [
    "import os \n",
    "\n",
    "save_dir='./images'\n",
    "\n",
    "for d in dps:\n",
    "    \n",
    "    if not os.path.isdir(save_dir):\n",
    "            os.makedirs(save_dir)\n",
    "            \n",
    "    # Define the file name as a timestamp.\n",
    "    with open(f'{save_dir}/{pd.Timestamp(d.time).value}.jpg', 'wb') as fout:\n",
    "        fout.write(d.data_payload)"
   ]
  }
 ],
 "metadata": {
  "kernelspec": {
   "display_name": "Python 3",
   "language": "python",
   "name": "python3"
  },
  "language_info": {
   "codemirror_mode": {
    "name": "ipython",
    "version": 3
   },
   "file_extension": ".py",
   "mimetype": "text/x-python",
   "name": "python",
   "nbconvert_exporter": "python",
   "pygments_lexer": "ipython3",
   "version": "3.8.5"
  }
 },
 "nbformat": 4,
 "nbformat_minor": 4
}
