{
 "cells": [
  {
   "cell_type": "markdown",
   "metadata": {},
   "source": [
    "# 2. JSONデータをアップロードし、信号定義に従って物理値を取得する"
   ]
  },
  {
   "cell_type": "markdown",
   "metadata": {},
   "source": [
    "このケースでは、以下の方法を中心に解説します。\n",
    "\n",
    "- JSONデータを文字列としてサーバーにアップロードする\n",
    "- JSONデータをキーごとに分解する信号定義を登録する\n",
    "- 上記登録した信号定義を指定してデータを取得する"
   ]
  },
  {
   "cell_type": "markdown",
   "metadata": {},
   "source": [
    "## シナリオ\n",
    "**「1. 時系列データを取得し、CSVで保存する」**  にて取得したCSVをJSONに変換して、新たな時系列データとして登録します。その後、JSON内に含まれていた数値を取り出します。\n",
    "\n",
    "タイムスタンプとJSON文字列のペアをintdashにアップロードした後、信号定義を行い、デシリアライズされたデータを取得します。"
   ]
  },
  {
   "cell_type": "markdown",
   "metadata": {},
   "source": [
    "## 事前準備\n",
    "\n",
    "本シナリオを実施する前に、以下を用意する必要があります。\n",
    "\n",
    "- データアップロード用のエッジ\n",
    "- **「1. 時系列データを取得し、CSVで保存する」** で作成されたCSV"
   ]
  },
  {
   "cell_type": "markdown",
   "metadata": {},
   "source": [
    "### 使用データ\n",
    "本シナリオでは、以下のデータをサーバー側に準備する必要があります。  \n",
    "\n",
    "|データ項目|本シナリオで登場するデータ名|\n",
    "|:---|:---|\n",
    "|時系列データを登録するエッジ|sdk_edge1|\n",
    "|時系列データ(CSV) (※1)|sdk_sample.csv|\n",
    "|信号定義(※2)| `json_ACCX`, `json_ACCY`, `json_ACCZ`|\n",
    "\n",
    "(※１) 「1. 時系列データを取得し、CSVで保存する」で取得したCSVを使用してください   \n",
    "(※２) JSONの信号定義を登録します。登録方法については、以下の手順を確認してください"
   ]
  },
  {
   "cell_type": "markdown",
   "metadata": {},
   "source": [
    "### パッケージのimportとクライアントの生成\n",
    "`intdash.Client` に与える `url` は intdashサーバーの環境情報から、 `edge_token` はログイン用エッジで発行したトークンを指定してください。  \n",
    "(※ `username` と `password` でのログインも可能ですが、継続して動作する場合はエッジトークンの使用を推奨します)"
   ]
  },
  {
   "cell_type": "code",
   "execution_count": 36,
   "metadata": {},
   "outputs": [],
   "source": [
    "import json\n",
    "import pandas as pd\n",
    "\n",
    "import intdash\n",
    "from intdash import timeutils\n",
    "\n",
    "# Create client\n",
    "\n",
    "client = intdash.Client(\n",
    "    url = \"https://example.intdash.jp\",\n",
    "    edge_token = \"your_token\",\n",
    ")"
   ]
  },
  {
   "cell_type": "markdown",
   "metadata": {},
   "source": [
    "## JSON文字列を作成しタイムスタンプと関連付ける\n",
    "**「1. 取得した時系列データをCSVで保存する」**  で作成したCSVデータをJSON形式に変換します。 変換後のデータは、タイムスタンプとJSON文字列が格納されたTuple型で保持します。"
   ]
  },
  {
   "cell_type": "code",
   "execution_count": 12,
   "metadata": {},
   "outputs": [
    {
     "data": {
      "text/html": [
       "<div>\n",
       "<style scoped>\n",
       "    .dataframe tbody tr th:only-of-type {\n",
       "        vertical-align: middle;\n",
       "    }\n",
       "\n",
       "    .dataframe tbody tr th {\n",
       "        vertical-align: top;\n",
       "    }\n",
       "\n",
       "    .dataframe thead th {\n",
       "        text-align: right;\n",
       "    }\n",
       "</style>\n",
       "<table border=\"1\" class=\"dataframe\">\n",
       "  <thead>\n",
       "    <tr style=\"text-align: right;\">\n",
       "      <th></th>\n",
       "      <th>sp_ACCY</th>\n",
       "      <th>sp_ACCZ</th>\n",
       "      <th>sp_ACCX</th>\n",
       "    </tr>\n",
       "    <tr>\n",
       "      <th>time</th>\n",
       "      <th></th>\n",
       "      <th></th>\n",
       "      <th></th>\n",
       "    </tr>\n",
       "  </thead>\n",
       "  <tbody>\n",
       "    <tr>\n",
       "      <td>2020-07-09T08:34:11.095032000Z</td>\n",
       "      <td>0.041493</td>\n",
       "      <td>0.217996</td>\n",
       "      <td>0.048094</td>\n",
       "    </tr>\n",
       "    <tr>\n",
       "      <td>2020-07-09T08:34:11.115194000Z</td>\n",
       "      <td>0.123338</td>\n",
       "      <td>0.305914</td>\n",
       "      <td>0.038043</td>\n",
       "    </tr>\n",
       "    <tr>\n",
       "      <td>2020-07-09T08:34:11.135356000Z</td>\n",
       "      <td>0.046133</td>\n",
       "      <td>0.436974</td>\n",
       "      <td>-0.051388</td>\n",
       "    </tr>\n",
       "    <tr>\n",
       "      <td>2020-07-09T08:34:11.155517000Z</td>\n",
       "      <td>-0.034988</td>\n",
       "      <td>0.233272</td>\n",
       "      <td>0.102698</td>\n",
       "    </tr>\n",
       "    <tr>\n",
       "      <td>2020-07-09T08:34:11.175679000Z</td>\n",
       "      <td>-0.055907</td>\n",
       "      <td>-0.164569</td>\n",
       "      <td>0.047395</td>\n",
       "    </tr>\n",
       "    <tr>\n",
       "      <td>...</td>\n",
       "      <td>...</td>\n",
       "      <td>...</td>\n",
       "      <td>...</td>\n",
       "    </tr>\n",
       "    <tr>\n",
       "      <td>2020-07-09T08:34:14.361262000Z</td>\n",
       "      <td>0.506122</td>\n",
       "      <td>0.231640</td>\n",
       "      <td>-1.372483</td>\n",
       "    </tr>\n",
       "    <tr>\n",
       "      <td>2020-07-09T08:34:14.381424000Z</td>\n",
       "      <td>0.354834</td>\n",
       "      <td>-0.354698</td>\n",
       "      <td>-1.570656</td>\n",
       "    </tr>\n",
       "    <tr>\n",
       "      <td>2020-07-09T08:34:14.401586000Z</td>\n",
       "      <td>-0.216771</td>\n",
       "      <td>0.578869</td>\n",
       "      <td>-0.578583</td>\n",
       "    </tr>\n",
       "    <tr>\n",
       "      <td>2020-07-09T08:34:14.421750000Z</td>\n",
       "      <td>-0.530205</td>\n",
       "      <td>2.901541</td>\n",
       "      <td>0.549015</td>\n",
       "    </tr>\n",
       "    <tr>\n",
       "      <td>2020-07-09T08:34:14.441910000Z</td>\n",
       "      <td>0.157232</td>\n",
       "      <td>4.466470</td>\n",
       "      <td>1.244910</td>\n",
       "    </tr>\n",
       "  </tbody>\n",
       "</table>\n",
       "<p>167 rows × 3 columns</p>\n",
       "</div>"
      ],
      "text/plain": [
       "                                 sp_ACCY   sp_ACCZ   sp_ACCX\n",
       "time                                                        \n",
       "2020-07-09T08:34:11.095032000Z  0.041493  0.217996  0.048094\n",
       "2020-07-09T08:34:11.115194000Z  0.123338  0.305914  0.038043\n",
       "2020-07-09T08:34:11.135356000Z  0.046133  0.436974 -0.051388\n",
       "2020-07-09T08:34:11.155517000Z -0.034988  0.233272  0.102698\n",
       "2020-07-09T08:34:11.175679000Z -0.055907 -0.164569  0.047395\n",
       "...                                  ...       ...       ...\n",
       "2020-07-09T08:34:14.361262000Z  0.506122  0.231640 -1.372483\n",
       "2020-07-09T08:34:14.381424000Z  0.354834 -0.354698 -1.570656\n",
       "2020-07-09T08:34:14.401586000Z -0.216771  0.578869 -0.578583\n",
       "2020-07-09T08:34:14.421750000Z -0.530205  2.901541  0.549015\n",
       "2020-07-09T08:34:14.441910000Z  0.157232  4.466470  1.244910\n",
       "\n",
       "[167 rows x 3 columns]"
      ]
     },
     "execution_count": 12,
     "metadata": {},
     "output_type": "execute_result"
    }
   ],
   "source": [
    "df = pd.read_csv('sdk_sample.csv' , index_col=0)\n",
    "df"
   ]
  },
  {
   "cell_type": "code",
   "execution_count": 34,
   "metadata": {},
   "outputs": [],
   "source": [
    "# convert format : {index -> {column -> value}}\n",
    "dicts = df.to_dict(orient='index')\n",
    "\n",
    "# convert tuple \n",
    "dict_list = list(dicts.items())"
   ]
  },
  {
   "cell_type": "code",
   "execution_count": 35,
   "metadata": {},
   "outputs": [
    {
     "data": {
      "text/plain": [
       "('2020-07-09T08:34:11.095032000Z',\n",
       " {'sp_ACCY': 0.041493, 'sp_ACCZ': 0.217996, 'sp_ACCX': 0.048094})"
      ]
     },
     "execution_count": 35,
     "metadata": {},
     "output_type": "execute_result"
    }
   ],
   "source": [
    "dict_list[0]"
   ]
  },
  {
   "cell_type": "markdown",
   "metadata": {},
   "source": [
    "dict型からJSON文字列に変換します。"
   ]
  },
  {
   "cell_type": "code",
   "execution_count": 70,
   "metadata": {},
   "outputs": [],
   "source": [
    "dict_list = [(d[0], json.dumps(d[1]))  for d in dict_list]"
   ]
  },
  {
   "cell_type": "code",
   "execution_count": 71,
   "metadata": {},
   "outputs": [
    {
     "data": {
      "text/plain": [
       "('2020-07-09T08:34:11.095032000Z',\n",
       " '{\"sp_ACCY\": 0.041493, \"sp_ACCZ\": 0.217996, \"sp_ACCX\": 0.048094}')"
      ]
     },
     "execution_count": 71,
     "metadata": {},
     "output_type": "execute_result"
    }
   ],
   "source": [
    "dict_list[0]"
   ]
  },
  {
   "cell_type": "markdown",
   "metadata": {},
   "source": [
    "## タイムスタンプと関連付けられたJSON文字列をサーバーに登録する\n",
    "上記で作成したタイムスタンプとJSON文字列のペアを `intdash.DataPoint` に変換したあと、サーバーに登録します。"
   ]
  },
  {
   "cell_type": "markdown",
   "metadata": {},
   "source": [
    "### 計測を作成する\n",
    "最初に、時系列データに紐付けるための計測データを作成します。\n",
    "まず、紐付け先のエッジの情報を取得します。"
   ]
  },
  {
   "cell_type": "code",
   "execution_count": 37,
   "metadata": {},
   "outputs": [],
   "source": [
    "edges = client.edges.list(name='sdk_edge1')\n",
    "sdk_edge1 = edges[0]"
   ]
  },
  {
   "cell_type": "code",
   "execution_count": 38,
   "metadata": {},
   "outputs": [
    {
     "data": {
      "text/plain": [
       "'sdk_edge1'"
      ]
     },
     "execution_count": 38,
     "metadata": {},
     "output_type": "execute_result"
    }
   ],
   "source": [
    "sdk_edge1.name"
   ]
  },
  {
   "cell_type": "code",
   "execution_count": 40,
   "metadata": {},
   "outputs": [],
   "source": [
    "meas = client.measurements.create(\n",
    "    edge_uuid= sdk_edge1.uuid, \n",
    "    basetime=timeutils.str2timestamp(dict_list[0][0])  #  The start time specifies the time of  first data.\n",
    ")"
   ]
  },
  {
   "cell_type": "code",
   "execution_count": 41,
   "metadata": {},
   "outputs": [
    {
     "name": "stdout",
     "output_type": "stream",
     "text": [
      "uuid: 82827deb-31b0-4093-aa64-28a717fbca06\n",
      "name: \n",
      "description: \n",
      "edge_uuid: bcecc99c-d255-4666-b4a7-6b492fe0986a\n",
      "duration: 0 days 00:00:00\n",
      "ended: False\n",
      "basetime: 2020-07-09 08:34:11.095032+00:00\n",
      "basetime_type: manual\n",
      "processed_ratio: 0\n",
      "protected: False\n",
      "markers: None\n",
      "created_at: 2020-07-16 08:49:15.170176+00:00\n",
      "updated_at: 2020-07-16 08:49:15.170176+00:00\n"
     ]
    }
   ],
   "source": [
    "print(meas)"
   ]
  },
  {
   "cell_type": "markdown",
   "metadata": {},
   "source": [
    "### 計測に時系列データを追加する\n",
    "「1. JSONデータを時系列順に並べる」 にて作成したデータを、`intdash.DataPoint` に変換します。"
   ]
  },
  {
   "cell_type": "code",
   "execution_count": 72,
   "metadata": {},
   "outputs": [],
   "source": [
    "dps = [\n",
    "    intdash.DataPoint(\n",
    "        elapsed_time=timeutils.str2timestamp(d[0]) - meas.basetime,  # Time elapsed from the start of measurement.\n",
    "        data_type=intdash.DataType.string.value, #  store JSON as string.\n",
    "        channel=1, # fixed at 1.\n",
    "        data_payload=intdash.data.String(data_id='json_data', value=d[1]).to_payload()\n",
    "    ) \n",
    "    for d in dict_list\n",
    "]"
   ]
  },
  {
   "cell_type": "code",
   "execution_count": 73,
   "metadata": {},
   "outputs": [
    {
     "name": "stdout",
     "output_type": "stream",
     "text": [
      "elapsed_time: 0 days 00:00:00.020162\n",
      "ndata_type: 10\n",
      "data: b'\\tjson_data{\"sp_ACCY\": 0.123338, \"sp_ACCZ\": 0.305914, \"sp_ACCX\": 0.038043}'\n"
     ]
    }
   ],
   "source": [
    "print(dps[1])"
   ]
  },
  {
   "cell_type": "markdown",
   "metadata": {},
   "source": [
    "変換した結果を、計測のデータポイントとして登録します。"
   ]
  },
  {
   "cell_type": "code",
   "execution_count": 74,
   "metadata": {},
   "outputs": [],
   "source": [
    "client.data_points.store(\n",
    "    measurement_uuid = meas.uuid,  # uuid of measurement.\n",
    "    data_points = dps,\n",
    ")"
   ]
  },
  {
   "cell_type": "markdown",
   "metadata": {},
   "source": [
    "計測が更新されているかどうか確認します。 "
   ]
  },
  {
   "cell_type": "code",
   "execution_count": 75,
   "metadata": {},
   "outputs": [
    {
     "name": "stdout",
     "output_type": "stream",
     "text": [
      "uuid: 82827deb-31b0-4093-aa64-28a717fbca06\n",
      "name: \n",
      "description: \n",
      "edge_uuid: bcecc99c-d255-4666-b4a7-6b492fe0986a\n",
      "duration: 0 days 00:00:03.346878\n",
      "ended: True\n",
      "basetime: 2020-07-09 08:34:11.095032+00:00\n",
      "basetime_type: manual\n",
      "processed_ratio: 1\n",
      "protected: False\n",
      "markers: None\n",
      "created_at: 2020-07-16 08:49:15.170176+00:00\n",
      "updated_at: 2020-07-16 11:00:33.031773+00:00\n"
     ]
    }
   ],
   "source": [
    "meas = client.measurements.get(\n",
    "    uuid=meas.uuid\n",
    ")\n",
    "print(meas)"
   ]
  },
  {
   "cell_type": "markdown",
   "metadata": {},
   "source": [
    "## JSONに紐づく変換定義を登録する"
   ]
  },
  {
   "cell_type": "markdown",
   "metadata": {},
   "source": [
    "JSON文字列内の特定のキーに対応する値について、物理値への変換方法を設定します。この設定には `intdash.ConversionJSON` を使います。作成した変換定義にはラベルを付与します。詳細については、以下を参照してください。\n",
    "\n",
    "[create-signal-json.ipynb](../0_create-signals/create-signal-json.ipynb)  \n",
    "\n",
    "なお、本シナリオでは以下の表の紐付けで登録しています。\n",
    "\n",
    "|JSONのキー|物理値変換後のデータに与えるラベル|\n",
    "|---|---|\n",
    "|sp_ACCX|json_ACCX|\n",
    "|sp_ACCY|json_ACCY|\n",
    "|sp_ACCZ|json_ACCZ|\n"
   ]
  },
  {
   "cell_type": "markdown",
   "metadata": {},
   "source": [
    "## JSONに紐づく信号定義を確認する\n",
    "先程登録した信号定義が登録されているかどうか、確認します。"
   ]
  },
  {
   "cell_type": "code",
   "execution_count": 56,
   "metadata": {},
   "outputs": [
    {
     "name": "stdout",
     "output_type": "stream",
     "text": [
      "json_ACCX, json_ACCY, json_ACCZ, "
     ]
    }
   ],
   "source": [
    "signals = client.signals.list(label='json')\n",
    "for s in signals:\n",
    "    print(s.label,  end=', ')"
   ]
  },
  {
   "cell_type": "markdown",
   "metadata": {},
   "source": [
    "## 信号定義を指定して時系列データを取得する\n",
    "**「1. 取得した時系列データをCSVで保存する」**と同様に、信号定義を指定してデータを取得します。"
   ]
  },
  {
   "cell_type": "code",
   "execution_count": 76,
   "metadata": {},
   "outputs": [],
   "source": [
    "dps = client.data_points.list(\n",
    "    edge_name='sdk_edge1',\n",
    "    start=timeutils.str2timestamp('2020-07-09 00:00:00+09:00'),\n",
    "    end=timeutils.str2timestamp('2020-07-10 00:00:00+09:00'),\n",
    "    labels=['json_ACCX', 'json_ACCY', 'json_ACCZ']\n",
    ")"
   ]
  },
  {
   "cell_type": "code",
   "execution_count": 77,
   "metadata": {},
   "outputs": [
    {
     "name": "stdout",
     "output_type": "stream",
     "text": [
      "time: 2020-07-09T08:34:11.095032000Z\n",
      "measurement_uuid: 82827deb-31b0-4093-aa64-28a717fbca06\n",
      "data_type: 11\n",
      "channel: 1\n",
      "data_id: json_ACCX\n",
      "data_payload: b'\\tjson_ACCX\\x94\\x84D\\xda\\xc6\\x9f\\xa8?'\n"
     ]
    }
   ],
   "source": [
    "print(dps[0])"
   ]
  },
  {
   "cell_type": "markdown",
   "metadata": {},
   "source": [
    "`data_payload` をペイロードから数値に変換し、 `json_ACCX` の値が取得できることを確認します。"
   ]
  },
  {
   "cell_type": "code",
   "execution_count": 79,
   "metadata": {},
   "outputs": [
    {
     "data": {
      "text/plain": [
       "0.048094"
      ]
     },
     "execution_count": 79,
     "metadata": {},
     "output_type": "execute_result"
    }
   ],
   "source": [
    "intdash.data.Float.from_payload(dps[0].data_payload).value"
   ]
  },
  {
   "cell_type": "markdown",
   "metadata": {},
   "source": [
    "JSONデータをそのまま取得したい場合は、登録時に指定したdata_id（`json_data`）を指定することで取得できます。"
   ]
  },
  {
   "cell_type": "code",
   "execution_count": 59,
   "metadata": {},
   "outputs": [],
   "source": [
    "dps = client.data_points.list(\n",
    "    edge_name='sdk_edge1',\n",
    "    start=timeutils.str2timestamp('2020-07-09 00:00:00+09:00'),\n",
    "    end=timeutils.str2timestamp('2020-07-10 00:00:00+09:00'),\n",
    "    id_queries=[intdash.IdQuery(\n",
    "        data_type=intdash.DataType.string,\n",
    "        data_id='json_data',\n",
    "        channel=1\n",
    "    )]\n",
    ")"
   ]
  },
  {
   "cell_type": "code",
   "execution_count": 62,
   "metadata": {},
   "outputs": [
    {
     "name": "stdout",
     "output_type": "stream",
     "text": [
      "time: 2020-07-09T08:34:11.095032000Z\n",
      "measurement_uuid: 82827deb-31b0-4093-aa64-28a717fbca06\n",
      "data_type: 10\n",
      "channel: 1\n",
      "data_id: json_data\n",
      "data_payload: b\"\\tjson_data{'sp_ACCY': 0.041493, 'sp_ACCZ': 0.217996, 'sp_ACCX': 0.048094}\"\n"
     ]
    }
   ],
   "source": [
    "print(dps[0])"
   ]
  }
 ],
 "metadata": {
  "kernelspec": {
   "display_name": "Python 3",
   "language": "python",
   "name": "python3"
  },
  "language_info": {
   "codemirror_mode": {
    "name": "ipython",
    "version": 3
   },
   "file_extension": ".py",
   "mimetype": "text/x-python",
   "name": "python",
   "nbconvert_exporter": "python",
   "pygments_lexer": "ipython3",
   "version": "3.8.5"
  }
 },
 "nbformat": 4,
 "nbformat_minor": 4
}
