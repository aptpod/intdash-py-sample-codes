{
 "cells": [
  {
   "cell_type": "markdown",
   "id": "international-edmonton",
   "metadata": {},
   "source": [
    " # NMEA型向け 信号定義サンプル\n",
    " このサンプルでは、NMEA形式のデータを物理値に変換する信号定義を登録します。今回は、以下の`GPRMC`のサンプルデータを例にします。\n",
    " \n",
    " トーカーがGPRMCのセンテンス例：\n",
    " ```\n",
    " $GPRMC,085120.307,A,3541.1493,N,13945.3994,E,000.0,240.3,181211,,,A*6A\n",
    " ```\n",
    " |#|値の例| 意味|\n",
    "|--- |:---:|:---|\n",
    "|0| 085120.307\t|\t協定世界時(UTC）での時刻|\n",
    "|1|A\t|ステータス (A = 有効)|\n",
    "|2|3541.1493\t|緯度|\n",
    "|3|N\t|北緯 or 南緯 |\n",
    "|4|13945.3994|\t経度|\n",
    "|5|E\t|東経 or 西経 |\n",
    "|6|000.0|\t地表における移動の速度|\n",
    "|7|240.3|\t地表における移動の真方位|\n",
    "|8|181211\t|協定世界時(UTC）での日付|\n",
    "|9|(blank)|磁北と真北の間の角度の差。000.0～359.9度\t|\n",
    "|10|(blank)|磁北と真北の間の角度の差の方向|\n",
    "|11|A\t|モード (A = Autonomous)|\n",
    "|12|*6A|チェックサム\t|\n",
    "\n",
    "上記のデータ形式に対して、緯度、経度を取得するための信号定義を登録します。"
   ]
  },
  {
   "cell_type": "markdown",
   "id": "nutritional-machine",
   "metadata": {},
   "source": [
    "## 事前準備"
   ]
  },
  {
   "cell_type": "markdown",
   "id": "according-debut",
   "metadata": {},
   "source": [
    "クライアントを生成します。"
   ]
  },
  {
   "cell_type": "code",
   "execution_count": 1,
   "id": "public-steel",
   "metadata": {},
   "outputs": [],
   "source": [
    "import intdash \n",
    "\n",
    "client = intdash.Client(\n",
    "    url = \"https://example.intdash.jp\",\n",
    "    edge_token = \"your_token\",\n",
    ")"
   ]
  },
  {
   "cell_type": "markdown",
   "id": "organic-pharmacy",
   "metadata": {},
   "source": [
    "信号定義のアクセスオブジェクトを生成します。"
   ]
  },
  {
   "cell_type": "code",
   "execution_count": 2,
   "id": "delayed-pocket",
   "metadata": {},
   "outputs": [],
   "source": [
    "sig = client.signals"
   ]
  },
  {
   "cell_type": "markdown",
   "id": "fresh-validation",
   "metadata": {},
   "source": [
    "## 信号定義の登録"
   ]
  },
  {
   "cell_type": "markdown",
   "id": "prepared-trial",
   "metadata": {},
   "source": [
    "### 緯度  ( index=2 )"
   ]
  },
  {
   "cell_type": "code",
   "execution_count": 3,
   "id": "guilty-revelation",
   "metadata": {},
   "outputs": [
    {
     "name": "stdout",
     "output_type": "stream",
     "text": [
      "uuid: 55ac70eb-e394-42c2-9602-426f7afa510c\n",
      "label: GNRMC_LAT\n",
      "description: \n",
      "data_type: 2\n",
      "data_id: GNRMC\n",
      "channel: 1\n",
      "conversion: delimiters: [',']\n",
      "index: 2\n",
      "value_type: str\n",
      "display: unit: \n",
      "min: 0\n",
      "max: 360\n",
      "format: %s\n",
      "hash: sha256:166af018cb95d93f346ab66bcfae9faea07b73e955f2c678d73eac77845a95d3\n",
      "created_at: 2021-02-12 07:00:51.193829+00:00\n",
      "updated_at: 2021-02-12 07:00:51.193829+00:00\n"
     ]
    }
   ],
   "source": [
    "s = sig.create(\n",
    "    label=\"GNRMC_LAT\",\n",
    "    data_type=intdash.DataType.nmea,\n",
    "    data_id='GNRMC',\n",
    "    channel=1,\n",
    "    conversion=intdash.ConversionCSV(\n",
    "        delimiters=[','],\n",
    "        index=2,\n",
    "        value_type='str'\n",
    "    ),\n",
    "    display=intdash.Display(\n",
    "        unit='',\n",
    "        min=0,\n",
    "        max=360,\n",
    "        format='%s',\n",
    "    ),\n",
    ")\n",
    "\n",
    "print(s)"
   ]
  },
  {
   "cell_type": "markdown",
   "id": "valuable-thomson",
   "metadata": {},
   "source": [
    "### 経度 ( index=4 )"
   ]
  },
  {
   "cell_type": "code",
   "execution_count": 4,
   "id": "copyrighted-graph",
   "metadata": {},
   "outputs": [
    {
     "name": "stdout",
     "output_type": "stream",
     "text": [
      "uuid: f2c0ed43-142b-4261-975d-e1b40173d4ed\n",
      "label: GNRMC_LNG\n",
      "description: \n",
      "data_type: 2\n",
      "data_id: GNRMC\n",
      "channel: 1\n",
      "conversion: delimiters: [',']\n",
      "index: 4\n",
      "value_type: str\n",
      "display: unit: \n",
      "min: 0\n",
      "max: 360\n",
      "format: %s\n",
      "hash: sha256:1b8ed52c5b558803f16e628bc2acdf4a227c30ca15e7eb0c5446e4838305bcfb\n",
      "created_at: 2021-02-12 07:00:54.392288+00:00\n",
      "updated_at: 2021-02-12 07:00:54.392288+00:00\n"
     ]
    }
   ],
   "source": [
    "s = sig.create(\n",
    "    label=\"GNRMC_LNG\",\n",
    "    data_type=intdash.DataType.nmea,\n",
    "    data_id='GNRMC',\n",
    "    channel=1,\n",
    "    conversion=intdash.ConversionCSV(\n",
    "        delimiters=[','],\n",
    "        index=4,\n",
    "        value_type='str'\n",
    "    ),\n",
    "    display=intdash.Display(\n",
    "        unit='',\n",
    "        min=0,\n",
    "        max=360,\n",
    "        format='%s',\n",
    "    ),\n",
    ")\n",
    "\n",
    "print(s)"
   ]
  }
 ],
 "metadata": {
  "kernelspec": {
   "display_name": "Python 3",
   "language": "python",
   "name": "python3"
  },
  "language_info": {
   "codemirror_mode": {
    "name": "ipython",
    "version": 3
   },
   "file_extension": ".py",
   "mimetype": "text/x-python",
   "name": "python",
   "nbconvert_exporter": "python",
   "pygments_lexer": "ipython3",
   "version": "3.9.0"
  }
 },
 "nbformat": 4,
 "nbformat_minor": 5
}
