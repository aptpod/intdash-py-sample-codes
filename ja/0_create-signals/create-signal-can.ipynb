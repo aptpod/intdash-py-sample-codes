{
 "cells": [
  {
   "cell_type": "markdown",
   "id": "jewish-salem",
   "metadata": {},
   "source": [
    " # CAN型向け 信号定義サンプル\n",
    " このサンプルでは、CANデータを物理値に変換する信号定義を登録します。\n",
    " 今回は、以下のようなサンプルデータを想定します。   (このデータ定義は架空のもので、実在するものではありません。)\n",
    " \n",
    " | CAN ID    | データ名       | startbit            | bitsize | scale| offset|\n",
    "|:-------|:-----------------------------------------------------|:--------------------------|:--------------------------|:--------------------------|:--------------------------|\n",
    "| 1_480 | ブレーキオン・オフ                    | 32                  | 1| 1|0|\n",
    "| 1_480 | アクセル | 7         | 8| 0.3921 |0|\n"
   ]
  },
  {
   "cell_type": "markdown",
   "id": "streaming-campaign",
   "metadata": {},
   "source": [
    "## 事前準備\n",
    "クライアントを生成します。"
   ]
  },
  {
   "cell_type": "code",
   "execution_count": 1,
   "id": "latin-linux",
   "metadata": {},
   "outputs": [],
   "source": [
    "import intdash \n",
    "\n",
    "client = intdash.Client(\n",
    "    url = \"https://example.intdash.jp\",\n",
    "    edge_token = \"your_token\",\n",
    ")"
   ]
  },
  {
   "cell_type": "markdown",
   "id": "minimal-slovak",
   "metadata": {},
   "source": [
    "信号定義のアクセスオブジェクトを生成します。"
   ]
  },
  {
   "cell_type": "code",
   "execution_count": 2,
   "id": "veterinary-booking",
   "metadata": {},
   "outputs": [],
   "source": [
    "sig = client.signals"
   ]
  },
  {
   "cell_type": "markdown",
   "id": "minimal-savannah",
   "metadata": {},
   "source": [
    "## 信号定義の登録"
   ]
  },
  {
   "cell_type": "code",
   "execution_count": 3,
   "id": "hybrid-norwegian",
   "metadata": {},
   "outputs": [
    {
     "name": "stdout",
     "output_type": "stream",
     "text": [
      "uuid: 5aaa33b6-fdae-46ce-a867-3cda15d2acfa\n",
      "label: BRAKE_ONOFF\n",
      "description: \n",
      "data_type: 1\n",
      "data_id: 1_480\n",
      "channel: 1\n",
      "conversion: startbit: 32\n",
      "bitsize: 1\n",
      "endian: little\n",
      "sign: unsigned\n",
      "scale: 1\n",
      "offset: 0\n",
      "display: unit: \n",
      "min: 0\n",
      "max: 1\n",
      "format: %0.0f\n",
      "hash: sha256:3c1244e81f2f100b8886ccbb893fc0633d65b51624e5b0949f7c8350f525bf57\n",
      "created_at: 2021-02-12 07:00:18.775748+00:00\n",
      "updated_at: 2021-02-12 07:00:18.775748+00:00\n"
     ]
    }
   ],
   "source": [
    "s = sig.create(\n",
    "    label=\"BRAKE_ONOFF\",\n",
    "    data_type=intdash.DataType.can,\n",
    "    data_id=\"1_480\",\n",
    "    channel=1,\n",
    "    conversion=intdash.ConversionNumFixedPoint(\n",
    "        startbit=32,\n",
    "        bitsize=1,\n",
    "        endian=\"little\",\n",
    "        sign=\"unsigned\",\n",
    "        scale=1,\n",
    "        offset=0,\n",
    "    ),\n",
    "    display=intdash.Display(\n",
    "        unit=\"\",\n",
    "        min=0,\n",
    "        max=1,\n",
    "        format=\"%0.0f\",\n",
    "    ),\n",
    ")\n",
    "\n",
    "print(s)"
   ]
  },
  {
   "cell_type": "code",
   "execution_count": 4,
   "id": "organizational-sharing",
   "metadata": {},
   "outputs": [
    {
     "name": "stdout",
     "output_type": "stream",
     "text": [
      "uuid: d9f5ff1d-e21e-4e68-bb5b-b1bf54c80468\n",
      "label: ACCEL\n",
      "description: \n",
      "data_type: 1\n",
      "data_id: 1_480\n",
      "channel: 1\n",
      "conversion: startbit: 7\n",
      "bitsize: 8\n",
      "endian: little\n",
      "sign: unsigned\n",
      "scale: 0.3921\n",
      "offset: 0\n",
      "display: unit: \n",
      "min: 0\n",
      "max: 100\n",
      "format: %0.0f\n",
      "hash: sha256:561792888c03b9d7bb51670c4315bead5719528b71e531824847a695367c9e40\n",
      "created_at: 2021-02-12 07:00:22.042201+00:00\n",
      "updated_at: 2021-02-12 07:00:22.042201+00:00\n"
     ]
    }
   ],
   "source": [
    "s = sig.create(\n",
    "    label=\"ACCEL\",\n",
    "    data_type=intdash.DataType.can,\n",
    "    data_id=\"1_480\",\n",
    "    channel=1,\n",
    "    conversion=intdash.ConversionNumFixedPoint(\n",
    "        startbit=7,\n",
    "        bitsize=8,\n",
    "        endian=\"little\",\n",
    "        sign=\"unsigned\",\n",
    "        scale=0.3921,\n",
    "        offset=0,\n",
    "    ),\n",
    "    display=intdash.Display(\n",
    "        unit=\"\",\n",
    "        min=0,\n",
    "        max=100,\n",
    "        format=\"%0.0f\",\n",
    "    ),\n",
    ")\n",
    "\n",
    "print(s)"
   ]
  }
 ],
 "metadata": {
  "kernelspec": {
   "display_name": "Python 3",
   "language": "python",
   "name": "python3"
  },
  "language_info": {
   "codemirror_mode": {
    "name": "ipython",
    "version": 3
   },
   "file_extension": ".py",
   "mimetype": "text/x-python",
   "name": "python",
   "nbconvert_exporter": "python",
   "pygments_lexer": "ipython3",
   "version": "3.9.0"
  }
 },
 "nbformat": 4,
 "nbformat_minor": 5
}
