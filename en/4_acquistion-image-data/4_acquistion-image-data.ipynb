{
 "cells": [
  {
   "cell_type": "markdown",
   "metadata": {},
   "source": [
    "# 4. Retrieve image data and save it locally\n",
    "In this case, we will focus on the following methods.\n",
    "\n",
    "* Retrieve M-JPEG data saved on the server side as binary data\n",
    "* Save as an image file (.jpg)\n",
    "\n",
    "## Scenario\n",
    "In this scenario, use iOS application **Visual M2M Motion** to stream video data, and save the data as images.\n",
    "\n",
    "## Preparation\n",
    "Before starting this scenario, prepare the following.\n",
    "\n",
    "- An edge that performs measurement\n",
    "- A measurement uploaded with Visual M2M Motion on iPhone (which contains images)\n",
    "\n",
    "\n",
    "### Data to be used\n",
    "In this scenario, the following data needs to be prepared on the server side.\n",
    "\n",
    "| Data item | Data name that appears in this scenario |\n",
    "|:---|:---|\n",
    "|Edge to register time series data|sdk_edge1|\n",
    "|Measurement(\\*)|measurement1|\n",
    "\n",
    "(\\*) Register time series data in the same way as **\"1. Retrieve time series data and save as CSV\"** using Visual M2M Motion."
   ]
  },
  {
   "cell_type": "markdown",
   "metadata": {},
   "source": [
    "### Create measurement data and upload time series data\n",
    "Upload the data using **Visual M2M Motion**. After registering the measurement, use **Visual M2M Data Visualizer** to check that the new measurement has been created."
   ]
  },
  {
   "cell_type": "markdown",
   "metadata": {},
   "source": [
    "### (Note) Operation of Visual M2M Motion\n",
    "1. Start Visual M2M Motion on iPhone and sign in as `sdk_edge1`.\n",
    "2. Make the following settings in Settings > Video.\n",
    "    1. Enable Streaming.\n",
    "    2. Enable Save to server.\n",
    "    3. Set Codec to JPEG.\n",
    "3. Return to the Main screen and tap ▶ in the center of the screen.\n",
    "4. Confirm that the measurement is started\n",
    "5. Tap ■ to end the measurement"
   ]
  },
  {
   "cell_type": "markdown",
   "metadata": {},
   "source": [
    "Confirm that the new measurement is displayed in \"Stored Data\" of Visual M2M Data Visualizer.\n",
    "\n",
    "<img src=\"https://github.com/aptpod/intdash-py-sample-codes/blob/master/img/img1.png?raw=true\">"
   ]
  },
  {
   "cell_type": "markdown",
   "metadata": {},
   "source": [
    "### Import packages and create a client\n",
    "For `url` given to ` intdash.Client`, specify the environment of the intdash server. For `edge_token`, specify the token issued for the edge you use.\n",
    "(* Login with `username` and `password` is also possible, but it is recommended to use edge token for continued use.)"
   ]
  },
  {
   "cell_type": "code",
   "execution_count": 8,
   "metadata": {},
   "outputs": [],
   "source": [
    "import pandas as pd\n",
    "\n",
    "import intdash\n",
    "from intdash import timeutils\n",
    "\n",
    "# Create client\n",
    "client = intdash.Client(\n",
    "    url = \"https://example.intdash.jp\",\n",
    "    edge_token = \"your_token\",\n",
    ")"
   ]
  },
  {
   "cell_type": "markdown",
   "metadata": {},
   "source": [
    "The preparations are complete."
   ]
  },
  {
   "cell_type": "markdown",
   "metadata": {},
   "source": [
    "## Retrieve the edge used for measurement"
   ]
  },
  {
   "cell_type": "code",
   "execution_count": 9,
   "metadata": {},
   "outputs": [],
   "source": [
    "edges = client.edges.list(name='sdk_edge1')\n",
    "sdk_edge1 = edges[0]"
   ]
  },
  {
   "cell_type": "code",
   "execution_count": 10,
   "metadata": {},
   "outputs": [
    {
     "data": {
      "text/plain": [
       "'sdk_edge1'"
      ]
     },
     "execution_count": 10,
     "metadata": {},
     "output_type": "execute_result"
    }
   ],
   "source": [
    "sdk_edge1.name"
   ]
  },
  {
   "cell_type": "markdown",
   "metadata": {},
   "source": [
    "## Retrieve time series data\n",
    "In this scenario, the `client.data_points` endpoint is used to retrieve the time series data.\n",
    "Normally, specify ``labels`` to retrieve data using signal definitions, but in this case, use `id_queries` because signal definitions are not used.\n",
    "\n",
    "* Normally, a ``data_id`` needs to be specified. But for JPEG data, it is not necessary to specify the ``data_id`` because the ``data_id`` for JPEG is fixed. For details, see [intdash.data.Jpeg](https://docs.intdash.jp/sdk/python/latest/en/data.html#intdash.intdash.data.JPEG) in the document."
   ]
  },
  {
   "cell_type": "code",
   "execution_count": 11,
   "metadata": {},
   "outputs": [],
   "source": [
    "dps = client.data_points.list(\n",
    "    edge_name='sdk_edge1',\n",
    "    start=timeutils.str2timestamp('2020-07-17 00:00:00+09:00'),\n",
    "    end=timeutils.str2timestamp('2020-07-18 00:00:00+09:00'),\n",
    "    id_queries=[\n",
    "        intdash.IdQuery(\n",
    "            data_type=intdash.DataType.jpeg,\n",
    "            channel=1\n",
    "        )\n",
    "    ]\n",
    ")"
   ]
  },
  {
   "cell_type": "markdown",
   "metadata": {},
   "source": [
    "## Save the retrieved data as an image file\n",
    "Save the retrieved binary data as it is as JPEG.\n",
    "Here, as a sample, only the first data point of the retrieved time series data is saved."
   ]
  },
  {
   "cell_type": "code",
   "execution_count": 20,
   "metadata": {},
   "outputs": [],
   "source": [
    "data = dps[0]  #  Specifies first data.\n",
    "\n",
    "# Define the file name as a timestamp.\n",
    "with open(f'./{pd.Timestamp(data.time).value}.jpg', 'wb') as fout:\n",
    "    fout.write(data.data_payload)"
   ]
  },
  {
   "cell_type": "markdown",
   "metadata": {},
   "source": [
    "If you want to save all time series data, repeat the above."
   ]
  },
  {
   "cell_type": "code",
   "execution_count": 22,
   "metadata": {},
   "outputs": [],
   "source": [
    "import os \n",
    "\n",
    "save_dir='./images'\n",
    "\n",
    "for d in dps:\n",
    "    \n",
    "    if not os.path.isdir(save_dir):\n",
    "            os.makedirs(save_dir)\n",
    "            \n",
    "    # Define the file name as a timestamp.\n",
    "    with open(f'{save_dir}/{pd.Timestamp(d.time).value}.jpg', 'wb') as fout:\n",
    "        fout.write(d.data_payload)"
   ]
  }
 ],
 "metadata": {
  "kernelspec": {
   "display_name": "Python 3",
   "language": "python",
   "name": "python3"
  },
  "language_info": {
   "codemirror_mode": {
    "name": "ipython",
    "version": 3
   },
   "file_extension": ".py",
   "mimetype": "text/x-python",
   "name": "python",
   "nbconvert_exporter": "python",
   "pygments_lexer": "ipython3",
   "version": "3.8.5"
  }
 },
 "nbformat": 4,
 "nbformat_minor": 4
}
