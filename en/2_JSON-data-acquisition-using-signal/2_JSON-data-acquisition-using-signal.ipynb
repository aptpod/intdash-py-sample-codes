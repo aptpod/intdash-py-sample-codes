{
 "cells": [
  {
   "cell_type": "markdown",
   "metadata": {},
   "source": [
    "# 2. Upload JSON data and retrieve physical values using signal definitions"
   ]
  },
  {
   "cell_type": "markdown",
   "metadata": {},
   "source": [
    "In this case, we will focus on the following methods.\n",
    "\n",
    "- Upload JSON data to the server as string\n",
    "- Register a signal definition that decomposes JSON data by key\n",
    "- Retrieve data by specifying the signal definition registered above"
   ]
  },
  {
   "cell_type": "markdown",
   "metadata": {},
   "source": [
    "## Scenario\n",
    "Convert the CSV acquired in **\"1. Retrieve time series data and save as CSV\"** into JSON and register as new time series data. After that, we retrieve the number contained in the JSON.\n",
    "\n",
    "After uploading the time stamp and JSON string pair to intdash, define a signal definition and retrieve the deserialized data."
   ]
  },
  {
   "cell_type": "markdown",
   "metadata": {},
   "source": [
    "## Preparation\n",
    "\n",
    "Before starting this scenario, prepare the following.\n",
    "\n",
    "- Edge for data upload\n",
    "- CSV created in **\"1. Retrieve time series data and save as CSV\"**"
   ]
  },
  {
   "cell_type": "markdown",
   "metadata": {},
   "source": [
    "### Data to be used\n",
    "In this scenario, the following data needs to be prepared on the server side.\n",
    "\n",
    "| Data item | Data name that appears in this scenario |\n",
    "|:---|:---|\n",
    "| Edge to register time series data |sdk_edge1|\n",
    "| Time series data(CSV) (\\*1)|sdk_sample.csv|\n",
    "| Signal definition(\\*2) | `sp_ACCX`, `sp_ACCY`, `sp_ACCZ`|\n",
    "\n",
    "(\\*1) Use the CSV obtained in \"1. Retrieve time series data and save as CSV\"  \n",
    "(\\*2) Register the JSON signal definition. For registration method, check the following steps."
   ]
  },
  {
   "cell_type": "markdown",
   "metadata": {},
   "source": [
    "### Import packages and create a client\n",
    "For `url` given to ` intdash.Client`, specify the environment of the intdash server. For `edge_token`, specify the token issued for the edge you use.\n",
    "(\\* Login with `username` and `password` is also possible, but it is recommended to use edge token for continued use.)"
   ]
  },
  {
   "cell_type": "code",
   "execution_count": 36,
   "metadata": {},
   "outputs": [],
   "source": [
    "import json\n",
    "import pandas as pd\n",
    "\n",
    "import intdash\n",
    "from intdash import intdash, timeutils\n",
    "\n",
    "# Create client\n",
    "\n",
    "client = intdash.Client(\n",
    "    url = \"https://example.intdash.jp\",\n",
    "    edge_token = \"your_token\",\n",
    ")"
   ]
  },
  {
   "cell_type": "markdown",
   "metadata": {},
   "source": [
    "## Create JSON strings and associate with timestamps\n",
    "Convert the CSV data created in **\"1. Retrieve time series data and save as CSV\"** into JSON format. Use a Tuple to store the converted time stamp and JSON character string."
   ]
  },
  {
   "cell_type": "code",
   "execution_count": 12,
   "metadata": {},
   "outputs": [
    {
     "data": {
      "text/html": [
       "<div>\n",
       "<style scoped>\n",
       "    .dataframe tbody tr th:only-of-type {\n",
       "        vertical-align: middle;\n",
       "    }\n",
       "\n",
       "    .dataframe tbody tr th {\n",
       "        vertical-align: top;\n",
       "    }\n",
       "\n",
       "    .dataframe thead th {\n",
       "        text-align: right;\n",
       "    }\n",
       "</style>\n",
       "<table border=\"1\" class=\"dataframe\">\n",
       "  <thead>\n",
       "    <tr style=\"text-align: right;\">\n",
       "      <th></th>\n",
       "      <th>sp_ACCY</th>\n",
       "      <th>sp_ACCZ</th>\n",
       "      <th>sp_ACCX</th>\n",
       "    </tr>\n",
       "    <tr>\n",
       "      <th>time</th>\n",
       "      <th></th>\n",
       "      <th></th>\n",
       "      <th></th>\n",
       "    </tr>\n",
       "  </thead>\n",
       "  <tbody>\n",
       "    <tr>\n",
       "      <td>2020-07-09T08:34:11.095032000Z</td>\n",
       "      <td>0.041493</td>\n",
       "      <td>0.217996</td>\n",
       "      <td>0.048094</td>\n",
       "    </tr>\n",
       "    <tr>\n",
       "      <td>2020-07-09T08:34:11.115194000Z</td>\n",
       "      <td>0.123338</td>\n",
       "      <td>0.305914</td>\n",
       "      <td>0.038043</td>\n",
       "    </tr>\n",
       "    <tr>\n",
       "      <td>2020-07-09T08:34:11.135356000Z</td>\n",
       "      <td>0.046133</td>\n",
       "      <td>0.436974</td>\n",
       "      <td>-0.051388</td>\n",
       "    </tr>\n",
       "    <tr>\n",
       "      <td>2020-07-09T08:34:11.155517000Z</td>\n",
       "      <td>-0.034988</td>\n",
       "      <td>0.233272</td>\n",
       "      <td>0.102698</td>\n",
       "    </tr>\n",
       "    <tr>\n",
       "      <td>2020-07-09T08:34:11.175679000Z</td>\n",
       "      <td>-0.055907</td>\n",
       "      <td>-0.164569</td>\n",
       "      <td>0.047395</td>\n",
       "    </tr>\n",
       "    <tr>\n",
       "      <td>...</td>\n",
       "      <td>...</td>\n",
       "      <td>...</td>\n",
       "      <td>...</td>\n",
       "    </tr>\n",
       "    <tr>\n",
       "      <td>2020-07-09T08:34:14.361262000Z</td>\n",
       "      <td>0.506122</td>\n",
       "      <td>0.231640</td>\n",
       "      <td>-1.372483</td>\n",
       "    </tr>\n",
       "    <tr>\n",
       "      <td>2020-07-09T08:34:14.381424000Z</td>\n",
       "      <td>0.354834</td>\n",
       "      <td>-0.354698</td>\n",
       "      <td>-1.570656</td>\n",
       "    </tr>\n",
       "    <tr>\n",
       "      <td>2020-07-09T08:34:14.401586000Z</td>\n",
       "      <td>-0.216771</td>\n",
       "      <td>0.578869</td>\n",
       "      <td>-0.578583</td>\n",
       "    </tr>\n",
       "    <tr>\n",
       "      <td>2020-07-09T08:34:14.421750000Z</td>\n",
       "      <td>-0.530205</td>\n",
       "      <td>2.901541</td>\n",
       "      <td>0.549015</td>\n",
       "    </tr>\n",
       "    <tr>\n",
       "      <td>2020-07-09T08:34:14.441910000Z</td>\n",
       "      <td>0.157232</td>\n",
       "      <td>4.466470</td>\n",
       "      <td>1.244910</td>\n",
       "    </tr>\n",
       "  </tbody>\n",
       "</table>\n",
       "<p>167 rows × 3 columns</p>\n",
       "</div>"
      ],
      "text/plain": [
       "                                 sp_ACCY   sp_ACCZ   sp_ACCX\n",
       "time                                                        \n",
       "2020-07-09T08:34:11.095032000Z  0.041493  0.217996  0.048094\n",
       "2020-07-09T08:34:11.115194000Z  0.123338  0.305914  0.038043\n",
       "2020-07-09T08:34:11.135356000Z  0.046133  0.436974 -0.051388\n",
       "2020-07-09T08:34:11.155517000Z -0.034988  0.233272  0.102698\n",
       "2020-07-09T08:34:11.175679000Z -0.055907 -0.164569  0.047395\n",
       "...                                  ...       ...       ...\n",
       "2020-07-09T08:34:14.361262000Z  0.506122  0.231640 -1.372483\n",
       "2020-07-09T08:34:14.381424000Z  0.354834 -0.354698 -1.570656\n",
       "2020-07-09T08:34:14.401586000Z -0.216771  0.578869 -0.578583\n",
       "2020-07-09T08:34:14.421750000Z -0.530205  2.901541  0.549015\n",
       "2020-07-09T08:34:14.441910000Z  0.157232  4.466470  1.244910\n",
       "\n",
       "[167 rows x 3 columns]"
      ]
     },
     "execution_count": 12,
     "metadata": {},
     "output_type": "execute_result"
    }
   ],
   "source": [
    "df = pd.read_csv('sdk_sample.csv' , index_col=0)\n",
    "df"
   ]
  },
  {
   "cell_type": "code",
   "execution_count": 34,
   "metadata": {},
   "outputs": [],
   "source": [
    "# convert format : {index -> {column -> value}}\n",
    "dicts = df.to_dict(orient='index')\n",
    "\n",
    "# convert tuple \n",
    "dict_list = list(dicts.items())"
   ]
  },
  {
   "cell_type": "code",
   "execution_count": 35,
   "metadata": {},
   "outputs": [
    {
     "data": {
      "text/plain": [
       "('2020-07-09T08:34:11.095032000Z',\n",
       " {'sp_ACCY': 0.041493, 'sp_ACCZ': 0.217996, 'sp_ACCX': 0.048094})"
      ]
     },
     "execution_count": 35,
     "metadata": {},
     "output_type": "execute_result"
    }
   ],
   "source": [
    "dict_list[0]"
   ]
  },
  {
   "cell_type": "markdown",
   "metadata": {},
   "source": [
    "Convert from dict type to JSON string."
   ]
  },
  {
   "cell_type": "code",
   "execution_count": 70,
   "metadata": {},
   "outputs": [],
   "source": [
    "dict_list = [(d[0], json.dumps(d[1]))  for d in dict_list]"
   ]
  },
  {
   "cell_type": "code",
   "execution_count": 71,
   "metadata": {},
   "outputs": [
    {
     "data": {
      "text/plain": [
       "('2020-07-09T08:34:11.095032000Z',\n",
       " '{\"sp_ACCY\": 0.041493, \"sp_ACCZ\": 0.217996, \"sp_ACCX\": 0.048094}')"
      ]
     },
     "execution_count": 71,
     "metadata": {},
     "output_type": "execute_result"
    }
   ],
   "source": [
    "dict_list[0]"
   ]
  },
  {
   "cell_type": "markdown",
   "metadata": {},
   "source": [
    "## Register the JSON string associated with the time stamp on the server\n",
    "After converting the time stamp and JSON string pair created above to `intdash.DataPoint`, register it on the server."
   ]
  },
  {
   "cell_type": "markdown",
   "metadata": {},
   "source": [
    "### Create a measurement\n",
    "First, create measurement data to be associated with the time series data.\n",
    "Retrieve the edge information."
   ]
  },
  {
   "cell_type": "code",
   "execution_count": 37,
   "metadata": {},
   "outputs": [],
   "source": [
    "edges = client.edges.list(name='sdk_edge1')\n",
    "sdk_edge1 = edges[0]"
   ]
  },
  {
   "cell_type": "code",
   "execution_count": 38,
   "metadata": {},
   "outputs": [
    {
     "data": {
      "text/plain": [
       "'sdk_edge1'"
      ]
     },
     "execution_count": 38,
     "metadata": {},
     "output_type": "execute_result"
    }
   ],
   "source": [
    "sdk_edge1.name"
   ]
  },
  {
   "cell_type": "code",
   "execution_count": 40,
   "metadata": {},
   "outputs": [],
   "source": [
    "meas = client.measurements.create(\n",
    "    edge_uuid= sdk_edge1.uuid, \n",
    "    basetime=timeutils.str2timestamp(dict_list[0][0])  #  The start time specifies the time of  first data.\n",
    ")"
   ]
  },
  {
   "cell_type": "code",
   "execution_count": 41,
   "metadata": {},
   "outputs": [
    {
     "name": "stdout",
     "output_type": "stream",
     "text": [
      "uuid: 82827deb-31b0-4093-aa64-28a717fbca06\n",
      "name: \n",
      "description: \n",
      "edge_uuid: bcecc99c-d255-4666-b4a7-6b492fe0986a\n",
      "duration: 0 days 00:00:00\n",
      "ended: False\n",
      "basetime: 2020-07-09 08:34:11.095032+00:00\n",
      "basetime_type: manual\n",
      "processed_ratio: 0\n",
      "protected: False\n",
      "markers: None\n",
      "created_at: 2020-07-16 08:49:15.170176+00:00\n",
      "updated_at: 2020-07-16 08:49:15.170176+00:00\n"
     ]
    }
   ],
   "source": [
    "print(meas)"
   ]
  },
  {
   "cell_type": "markdown",
   "metadata": {},
   "source": [
    "### Add time series data to the measurement\n",
    "Convert the data to `intdash.DataPoint`."
   ]
  },
  {
   "cell_type": "code",
   "execution_count": 72,
   "metadata": {},
   "outputs": [],
   "source": [
    "dps = [\n",
    "    intdash.DataPoint(\n",
    "        elapsed_time=timeutils.str2timestamp(d[0]) - meas.basetime,  # Time elapsed from the start of measurement.\n",
    "        data_type=intdash.DataType.string.value, #  store JSON as string.\n",
    "        channel=1, # fixed at 1.\n",
    "        data_payload=intdash.data.String(data_id='json_data', value=d[1]).to_payload()\n",
    "    ) \n",
    "    for d in dict_list\n",
    "]"
   ]
  },
  {
   "cell_type": "code",
   "execution_count": 73,
   "metadata": {},
   "outputs": [
    {
     "name": "stdout",
     "output_type": "stream",
     "text": [
      "elapsed_time: 0 days 00:00:00.020162\n",
      "ndata_type: 10\n",
      "data: b'\\tjson_data{\"sp_ACCY\": 0.123338, \"sp_ACCZ\": 0.305914, \"sp_ACCX\": 0.038043}'\n"
     ]
    }
   ],
   "source": [
    "print(dps[1])"
   ]
  },
  {
   "cell_type": "markdown",
   "metadata": {},
   "source": [
    "Register the converted results as data points of the measurement."
   ]
  },
  {
   "cell_type": "code",
   "execution_count": 74,
   "metadata": {},
   "outputs": [],
   "source": [
    "client.data_points.store(\n",
    "    measurement_uuid = meas.uuid,  # uuid of measurement.\n",
    "    data_points = dps,\n",
    ")"
   ]
  },
  {
   "cell_type": "markdown",
   "metadata": {},
   "source": [
    "Confirm that the measurement is updated."
   ]
  },
  {
   "cell_type": "code",
   "execution_count": 75,
   "metadata": {},
   "outputs": [
    {
     "name": "stdout",
     "output_type": "stream",
     "text": [
      "uuid: 82827deb-31b0-4093-aa64-28a717fbca06\n",
      "name: \n",
      "description: \n",
      "edge_uuid: bcecc99c-d255-4666-b4a7-6b492fe0986a\n",
      "duration: 0 days 00:00:03.346878\n",
      "ended: True\n",
      "basetime: 2020-07-09 08:34:11.095032+00:00\n",
      "basetime_type: manual\n",
      "processed_ratio: 1\n",
      "protected: False\n",
      "markers: None\n",
      "created_at: 2020-07-16 08:49:15.170176+00:00\n",
      "updated_at: 2020-07-16 11:00:33.031773+00:00\n"
     ]
    }
   ],
   "source": [
    "meas = client.measurements.get(\n",
    "    uuid=meas.uuid\n",
    ")\n",
    "print(meas)"
   ]
  },
  {
   "cell_type": "markdown",
   "metadata": {},
   "source": [
    "## Register the conversion definition linked to JSON"
   ]
  },
  {
   "cell_type": "markdown",
   "metadata": {},
   "source": [
    "For the value corresponding to a specific key in the JSON string, set the conversion method to physical values. Use `intdash.ConversionJSON` for this setting. A label is given to the created conversion definition. See below for more information.\n",
    "\n",
    "[create-signal-json.ipynb](../0_create-signals/create-signal-json.ipynb)\n",
    "\n",
    "The association to be set in this scenario is shown in the table below:\n",
    "\n",
    "| JSON key | Label to be given to the data after conversion to physical values |\n",
    "|---|---|\n",
    "|sp_ACCX|json_ACCX|\n",
    "|sp_ACCY|json_ACCY|\n",
    "|sp_ACCZ|json_ACCZ|\n"
   ]
  },
  {
   "cell_type": "markdown",
   "metadata": {},
   "source": [
    "## Confirm the signal definition to be used with JSON\n",
    "Confirm that the signal definitions are correctly registered."
   ]
  },
  {
   "cell_type": "code",
   "execution_count": 56,
   "metadata": {},
   "outputs": [
    {
     "name": "stdout",
     "output_type": "stream",
     "text": [
      "json_ACCX, json_ACCY, json_ACCZ, "
     ]
    }
   ],
   "source": [
    "signals = client.signals.list(label='json')\n",
    "for s in signals:\n",
    "    print(s.label,  end=', ')"
   ]
  },
  {
   "cell_type": "markdown",
   "metadata": {},
   "source": [
    "## Retrieve time series data by specifying the signal definitions\n",
    "Similar to **\"1. Retrieve time series data and save as CSV\"**, specify the signal definitions and retrieve the data."
   ]
  },
  {
   "cell_type": "code",
   "execution_count": 76,
   "metadata": {},
   "outputs": [],
   "source": [
    "dps = client.data_points.list(\n",
    "    edge_name='sdk_edge1',\n",
    "    start=timeutils.str2timestamp('2020-07-09 00:00:00+09:00'),\n",
    "    end=timeutils.str2timestamp('2020-07-10 00:00:00+09:00'),\n",
    "    labels=['json_ACCX', 'json_ACCY', 'json_ACCZ']\n",
    ")"
   ]
  },
  {
   "cell_type": "code",
   "execution_count": 77,
   "metadata": {},
   "outputs": [
    {
     "name": "stdout",
     "output_type": "stream",
     "text": [
      "time: 2020-07-09T08:34:11.095032000Z\n",
      "measurement_uuid: 82827deb-31b0-4093-aa64-28a717fbca06\n",
      "data_type: 11\n",
      "channel: 1\n",
      "data_id: json_ACCX\n",
      "data_payload: b'\\tjson_ACCX\\x94\\x84D\\xda\\xc6\\x9f\\xa8?'\n"
     ]
    }
   ],
   "source": [
    "print(dps[0])"
   ]
  },
  {
   "cell_type": "markdown",
   "metadata": {},
   "source": [
    "Convert the `data_payload` to a numerical value and confirm that you can get the value of `json_ACCX`."
   ]
  },
  {
   "cell_type": "code",
   "execution_count": 79,
   "metadata": {},
   "outputs": [
    {
     "data": {
      "text/plain": [
       "0.048094"
      ]
     },
     "execution_count": 79,
     "metadata": {},
     "output_type": "execute_result"
    }
   ],
   "source": [
    "intdash.data.Float.from_payload(dps[0].data_payload).value"
   ]
  },
  {
   "cell_type": "markdown",
   "metadata": {},
   "source": [
    "If you want to retrieve the JSON data as it is, you can retrieve it by specifying the data_id (`json_data`) that you registered."
   ]
  },
  {
   "cell_type": "code",
   "execution_count": 59,
   "metadata": {},
   "outputs": [],
   "source": [
    "dps = client.data_points.list(\n",
    "    edge_name='sdk_edge1',\n",
    "    start=timeutils.str2timestamp('2020-07-09 00:00:00+09:00'),\n",
    "    end=timeutils.str2timestamp('2020-07-10 00:00:00+09:00'),\n",
    "    id_queries=[intdash.IdQuery(\n",
    "        data_type=intdash.DataType.string,\n",
    "        data_id='json_data',\n",
    "        channel=1\n",
    "    )]\n",
    ")"
   ]
  },
  {
   "cell_type": "code",
   "execution_count": 62,
   "metadata": {},
   "outputs": [
    {
     "name": "stdout",
     "output_type": "stream",
     "text": [
      "time: 2020-07-09T08:34:11.095032000Z\n",
      "measurement_uuid: 82827deb-31b0-4093-aa64-28a717fbca06\n",
      "data_type: 10\n",
      "channel: 1\n",
      "data_id: json_data\n",
      "data_payload: b\"\\tjson_data{'sp_ACCY': 0.041493, 'sp_ACCZ': 0.217996, 'sp_ACCX': 0.048094}\"\n"
     ]
    }
   ],
   "source": [
    "print(dps[0])"
   ]
  }
 ],
 "metadata": {
  "kernelspec": {
   "display_name": "Python 3",
   "language": "python",
   "name": "python3"
  },
  "language_info": {
   "codemirror_mode": {
    "name": "ipython",
    "version": 3
   },
   "file_extension": ".py",
   "mimetype": "text/x-python",
   "name": "python",
   "nbconvert_exporter": "python",
   "pygments_lexer": "ipython3",
   "version": "3.7.6"
  }
 },
 "nbformat": 4,
 "nbformat_minor": 4
}
