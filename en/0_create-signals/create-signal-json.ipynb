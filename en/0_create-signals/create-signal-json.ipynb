{
 "cells": [
  {
   "cell_type": "markdown",
   "metadata": {},
   "source": [
    "# JSON(String) signal definition examples\n",
    "Register signal definitions that deserialize serialized JSON data.\n",
    "\n",
    "In this example, deserialize the following JSON data to numerical values.\n",
    "\n",
    "```\n",
    "{\n",
    "    'sp_ACCX' : 1,\n",
    "    'sp_ACCY' : 1,\n",
    "    'sp_ACCZ' : 1,\n",
    "}\n",
    "\n",
    "```"
   ]
  },
  {
   "cell_type": "markdown",
   "metadata": {},
   "source": [
    "## Preparation"
   ]
  },
  {
   "cell_type": "markdown",
   "metadata": {},
   "source": [
    "Create a client."
   ]
  },
  {
   "cell_type": "code",
   "execution_count": null,
   "metadata": {},
   "outputs": [],
   "source": [
    "import intdash \n",
    "\n",
    "client = intdash.Client(\n",
    "    url = \"https://example.intdash.jp\",\n",
    "    edge_token = \"your_token\",\n",
    ")"
   ]
  },
  {
   "cell_type": "markdown",
   "metadata": {},
   "source": [
    "Create an access object for signal definitions"
   ]
  },
  {
   "cell_type": "code",
   "execution_count": 2,
   "metadata": {},
   "outputs": [],
   "source": [
    "sig = client.signals"
   ]
  },
  {
   "cell_type": "markdown",
   "metadata": {},
   "source": [
    "## Register signal definitions"
   ]
  },
  {
   "cell_type": "code",
   "execution_count": 3,
   "metadata": {},
   "outputs": [
    {
     "name": "stdout",
     "output_type": "stream",
     "text": [
      "uuid: 26b76c64-7858-4db3-b3a1-dd8fa58afd6c\n",
      "label: json_ACCX\n",
      "description: \n",
      "data_type: 10\n",
      "data_id: json_data\n",
      "channel: 1\n",
      "conversion: fieldpath: sp_ACCX\n",
      "value_type: num\n",
      "display: unit: \n",
      "min: -10\n",
      "max: 10\n",
      "format: %f\n",
      "hash: sha256:12bf74a4202bddc7c394668ef0ded1389c1341860dee6b4089fb39727b362d3b\n",
      "created_at: 2020-07-16 10:37:11.553013+00:00\n",
      "updated_at: 2020-07-16 10:37:11.553013+00:00\n"
     ]
    }
   ],
   "source": [
    "s = sig.create(\n",
    "    label=\"json_ACCX\",\n",
    "    data_type=intdash.DataType.string,\n",
    "    data_id=\"json_data\",\n",
    "    channel=1,\n",
    "    conversion=intdash.ConversionJSON(\n",
    "        fieldpath='sp_ACCX',  # Specify a key in the JSON data.\n",
    "        value_type='num'\n",
    "   \n",
    "    ),\n",
    "    display=intdash.Display(\n",
    "        unit=\"\",\n",
    "        min=-10,\n",
    "        max=10,\n",
    "        format=\"%f\",\n",
    "    ),\n",
    ")\n",
    "\n",
    "print(s)"
   ]
  },
  {
   "cell_type": "code",
   "execution_count": 4,
   "metadata": {},
   "outputs": [
    {
     "name": "stdout",
     "output_type": "stream",
     "text": [
      "uuid: f201fd43-c42d-46da-935a-d994b48a6b81\n",
      "label: json_ACCY\n",
      "description: \n",
      "data_type: 10\n",
      "data_id: json_data\n",
      "channel: 1\n",
      "conversion: fieldpath: sp_ACCY\n",
      "value_type: num\n",
      "display: unit: \n",
      "min: -10\n",
      "max: 10\n",
      "format: %f\n",
      "hash: sha256:e13767f1616fe5982724321938a8d0be1140f02183e2105c93f02ff895451eaa\n",
      "created_at: 2020-07-16 10:37:22.641917+00:00\n",
      "updated_at: 2020-07-16 10:37:22.641917+00:00\n"
     ]
    }
   ],
   "source": [
    "s = sig.create(\n",
    "    label=\"json_ACCY\",\n",
    "    data_type=intdash.DataType.string,\n",
    "    data_id=\"json_data\",\n",
    "    channel=1,\n",
    "    conversion=intdash.ConversionJSON(\n",
    "        fieldpath='sp_ACCY',  # Specify a key in the JSON data.\n",
    "        value_type='num'\n",
    "   \n",
    "    ),\n",
    "    display=intdash.Display(\n",
    "        unit=\"\",\n",
    "        min=-10,\n",
    "        max=10,\n",
    "        format=\"%f\",\n",
    "    ),\n",
    ")\n",
    "\n",
    "print(s)"
   ]
  },
  {
   "cell_type": "code",
   "execution_count": 5,
   "metadata": {},
   "outputs": [
    {
     "name": "stdout",
     "output_type": "stream",
     "text": [
      "uuid: affa3a53-15c9-41fe-b2f2-2c798c26c897\n",
      "label: json_ACCZ\n",
      "description: \n",
      "data_type: 10\n",
      "data_id: json_data\n",
      "channel: 1\n",
      "conversion: fieldpath: sp_ACCZ\n",
      "value_type: num\n",
      "display: unit: \n",
      "min: -10\n",
      "max: 10\n",
      "format: %f\n",
      "hash: sha256:1f28649a085cd7d1b46dcd8cfc318e4d00c10ae7762b0a3744881a2d271d432f\n",
      "created_at: 2020-07-16 10:37:29.265045+00:00\n",
      "updated_at: 2020-07-16 10:37:29.265045+00:00\n"
     ]
    }
   ],
   "source": [
    "s = sig.create(\n",
    "    label=\"json_ACCZ\",\n",
    "    data_type=intdash.DataType.string,\n",
    "    data_id=\"json_data\",\n",
    "    channel=1,\n",
    "    conversion=intdash.ConversionJSON(\n",
    "        fieldpath='sp_ACCZ',  # Specify a key in the JSON data.\n",
    "        value_type='num'\n",
    "   \n",
    "    ),\n",
    "    display=intdash.Display(\n",
    "        unit=\"\",\n",
    "        min=-10,\n",
    "        max=10,\n",
    "        format=\"%f\",\n",
    "    ),\n",
    ")\n",
    "\n",
    "print(s)"
   ]
  }
 ],
 "metadata": {
  "kernelspec": {
   "display_name": "Python 3",
   "language": "python",
   "name": "python3"
  },
  "language_info": {
   "codemirror_mode": {
    "name": "ipython",
    "version": 3
   },
   "file_extension": ".py",
   "mimetype": "text/x-python",
   "name": "python",
   "nbconvert_exporter": "python",
   "pygments_lexer": "ipython3",
   "version": "3.7.6"
  }
 },
 "nbformat": 4,
 "nbformat_minor": 4
}
