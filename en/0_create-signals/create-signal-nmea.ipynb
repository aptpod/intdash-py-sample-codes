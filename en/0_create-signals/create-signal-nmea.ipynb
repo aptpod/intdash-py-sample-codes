{
 "cells": [
  {
   "cell_type": "markdown",
   "id": "international-edmonton",
   "metadata": {},
   "source": [
    " # Signal definition samples for NMEA type\n",
    "In this sample, register signal definitions that convert NMEA format data to physical values. We will use the following sample data of `GPRMC` as an example.\n",
    " \n",
    " Sentence example：\n",
    " ```\n",
    " $GPRMC,085120.307,A,3541.1493,N,13945.3994,E,000.0,240.3,181211,,,A*6A\n",
    " ```\n",
    " |#|Value example | meaning|\n",
    "|--- |:---:|:---|\n",
    "|0| 085120.307\t| Time Stamp|\n",
    "|1|A\t|validity - A-ok, V-invalid|\n",
    "|2|3541.1493\t| Latitude|\n",
    "|3|N\t| North/South |\n",
    "|4|13945.3994|\tLongitude|\n",
    "|5|E\t| East/West |\n",
    "|6|000.0|\tSpeed in knots|\n",
    "|7|240.3|\t  True course|\n",
    "|8|181211\t|Date Stamp|\n",
    "|9|(blank)|Variation\t|\n",
    "|10|(blank)|East/West|\n",
    "|11|A\t|Mode (A = Autonomous)|\n",
    "|12|*6A|checksum\t|\n",
    "\n",
    "Register the signal definitions for acquiring latitude and longitude for the above data format."
   ]
  },
  {
   "cell_type": "markdown",
   "id": "adult-setup",
   "metadata": {},
   "source": [
    "## Preparation"
   ]
  },
  {
   "cell_type": "markdown",
   "id": "ignored-planner",
   "metadata": {},
   "source": [
    "Create a client."
   ]
  },
  {
   "cell_type": "code",
   "execution_count": 1,
   "id": "public-steel",
   "metadata": {},
   "outputs": [],
   "source": [
    "## Preparation\n",
    "\n",
    "Create a client.import intdash \n",
    "\n",
    "client = intdash.Client(\n",
    "    url = \"https://example.intdash.jp\",\n",
    "    edge_token = \"your_token\",\n",
    ")"
   ]
  },
  {
   "cell_type": "markdown",
   "id": "buried-israeli",
   "metadata": {},
   "source": [
    "Create an access object for signal definitions"
   ]
  },
  {
   "cell_type": "code",
   "execution_count": 2,
   "id": "delayed-pocket",
   "metadata": {},
   "outputs": [],
   "source": [
    "sig = client.signals"
   ]
  },
  {
   "cell_type": "markdown",
   "id": "junior-leadership",
   "metadata": {},
   "source": [
    "## Register a signal definition"
   ]
  },
  {
   "cell_type": "markdown",
   "id": "prepared-trial",
   "metadata": {},
   "source": [
    "### Latitude  ( index=2 )"
   ]
  },
  {
   "cell_type": "code",
   "execution_count": 3,
   "id": "guilty-revelation",
   "metadata": {},
   "outputs": [
    {
     "name": "stdout",
     "output_type": "stream",
     "text": [
      "uuid: 55ac70eb-e394-42c2-9602-426f7afa510c\n",
      "label: GNRMC_LAT\n",
      "description: \n",
      "data_type: 2\n",
      "data_id: GNRMC\n",
      "channel: 1\n",
      "conversion: delimiters: [',']\n",
      "index: 2\n",
      "value_type: str\n",
      "display: unit: \n",
      "min: 0\n",
      "max: 360\n",
      "format: %s\n",
      "hash: sha256:166af018cb95d93f346ab66bcfae9faea07b73e955f2c678d73eac77845a95d3\n",
      "created_at: 2021-02-12 07:00:51.193829+00:00\n",
      "updated_at: 2021-02-12 07:00:51.193829+00:00\n"
     ]
    }
   ],
   "source": [
    "s = sig.create(\n",
    "    label=\"GNRMC_LAT\",\n",
    "    data_type=intdash.DataType.nmea,\n",
    "    data_id='GNRMC',\n",
    "    channel=1,\n",
    "    conversion=intdash.ConversionCSV(\n",
    "        delimiters=[','],\n",
    "        index=2,\n",
    "        value_type='str'\n",
    "    ),\n",
    "    display=intdash.Display(\n",
    "        unit='',\n",
    "        min=0,\n",
    "        max=360,\n",
    "        format='%s',\n",
    "    ),\n",
    ")\n",
    "\n",
    "print(s)"
   ]
  },
  {
   "cell_type": "markdown",
   "id": "valuable-thomson",
   "metadata": {},
   "source": [
    "### Longitude ( index=4 )"
   ]
  },
  {
   "cell_type": "code",
   "execution_count": 4,
   "id": "copyrighted-graph",
   "metadata": {},
   "outputs": [
    {
     "name": "stdout",
     "output_type": "stream",
     "text": [
      "uuid: f2c0ed43-142b-4261-975d-e1b40173d4ed\n",
      "label: GNRMC_LNG\n",
      "description: \n",
      "data_type: 2\n",
      "data_id: GNRMC\n",
      "channel: 1\n",
      "conversion: delimiters: [',']\n",
      "index: 4\n",
      "value_type: str\n",
      "display: unit: \n",
      "min: 0\n",
      "max: 360\n",
      "format: %s\n",
      "hash: sha256:1b8ed52c5b558803f16e628bc2acdf4a227c30ca15e7eb0c5446e4838305bcfb\n",
      "created_at: 2021-02-12 07:00:54.392288+00:00\n",
      "updated_at: 2021-02-12 07:00:54.392288+00:00\n"
     ]
    }
   ],
   "source": [
    "s = sig.create(\n",
    "    label=\"GNRMC_LNG\",\n",
    "    data_type=intdash.DataType.nmea,\n",
    "    data_id='GNRMC',\n",
    "    channel=1,\n",
    "    conversion=intdash.ConversionCSV(\n",
    "        delimiters=[','],\n",
    "        index=4,\n",
    "        value_type='str'\n",
    "    ),\n",
    "    display=intdash.Display(\n",
    "        unit='',\n",
    "        min=0,\n",
    "        max=360,\n",
    "        format='%s',\n",
    "    ),\n",
    ")\n",
    "\n",
    "print(s)"
   ]
  }
 ],
 "metadata": {
  "kernelspec": {
   "display_name": "Python 3",
   "language": "python",
   "name": "python3"
  },
  "language_info": {
   "codemirror_mode": {
    "name": "ipython",
    "version": 3
   },
   "file_extension": ".py",
   "mimetype": "text/x-python",
   "name": "python",
   "nbconvert_exporter": "python",
   "pygments_lexer": "ipython3",
   "version": "3.9.0"
  }
 },
 "nbformat": 4,
 "nbformat_minor": 5
}
