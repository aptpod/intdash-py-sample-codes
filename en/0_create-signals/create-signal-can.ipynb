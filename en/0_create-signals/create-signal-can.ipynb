{
 "cells": [
  {
   "cell_type": "markdown",
   "id": "jewish-salem",
   "metadata": {},
   "source": [
    " # Signal definition sample for CAN Type\n",
    " In this sample, register signal definitions that convert the CAN data into physical values.\n",
    " In this case, we assume the following sample data.   (This data definition is fictitious and does not exist in real life.)  \n",
    " \n",
    " | CAN ID    | Data name       | startbit            | bitsize | scale| offset|\n",
    "|:-------|:-----------------------------------------------------|:--------------------------|:--------------------------|:--------------------------|:--------------------------|\n",
    "| 380 (0x0000017c) | Brake on-off                    | 32                  | 1| 1|0|\n",
    "| 380 (0x0000017c) | Accel  | 7         | 8| 0.3921 |0|\n"
   ]
  },
  {
   "cell_type": "markdown",
   "id": "hourly-vitamin",
   "metadata": {},
   "source": [
    "## Preparation"
   ]
  },
  {
   "cell_type": "markdown",
   "id": "following-attack",
   "metadata": {},
   "source": [
    "Create a client."
   ]
  },
  {
   "cell_type": "code",
   "execution_count": 2,
   "id": "latin-linux",
   "metadata": {},
   "outputs": [],
   "source": [
    "import intdash \n",
    "\n",
    "client = intdash.Client(\n",
    "    url = \"https://example.intdash.jp\",\n",
    "    edge_token = \"your_token\",\n",
    ")"
   ]
  },
  {
   "cell_type": "markdown",
   "id": "minimal-slovak",
   "metadata": {},
   "source": [
    "信号定義のアクセスオブジェクトを生成します。"
   ]
  },
  {
   "cell_type": "code",
   "execution_count": 3,
   "id": "veterinary-booking",
   "metadata": {},
   "outputs": [],
   "source": [
    "sig = client.signals"
   ]
  },
  {
   "cell_type": "markdown",
   "id": "metallic-pregnancy",
   "metadata": {},
   "source": [
    "## Register a signal definition"
   ]
  },
  {
   "cell_type": "code",
   "execution_count": 4,
   "id": "hybrid-norwegian",
   "metadata": {},
   "outputs": [
    {
     "name": "stdout",
     "output_type": "stream",
     "text": [
      "uuid: 9700ae37-add6-47cc-86f1-2b6e2d32e871\n",
      "label: BRAKE_ONOFF\n",
      "description: \n",
      "data_type: 1\n",
      "data_id: 0000017c\n",
      "channel: 1\n",
      "conversion: startbit: 32\n",
      "bitsize: 1\n",
      "endian: little\n",
      "sign: unsigned\n",
      "scale: 1\n",
      "offset: 0\n",
      "display: unit: \n",
      "min: 0\n",
      "max: 1\n",
      "format: %0.0f\n",
      "hash: sha256:89e36595fb34bd9e28e9c985ff7aa810886e9e55671d5c72daf2c59bea45db96\n",
      "created_at: 2021-02-12 09:52:38.190895+00:00\n",
      "updated_at: 2021-02-12 09:52:38.190895+00:00\n"
     ]
    }
   ],
   "source": [
    "s = sig.create(\n",
    "    label=\"BRAKE_ONOFF\",\n",
    "    data_type=intdash.DataType.can,\n",
    "    data_id=\"0000017c\",\n",
    "    channel=1,\n",
    "    conversion=intdash.ConversionNumFixedPoint(\n",
    "        startbit=32,\n",
    "        bitsize=1,\n",
    "        endian=\"little\",\n",
    "        sign=\"unsigned\",\n",
    "        scale=1,\n",
    "        offset=0,\n",
    "    ),\n",
    "    display=intdash.Display(\n",
    "        unit=\"\",\n",
    "        min=0,\n",
    "        max=1,\n",
    "        format=\"%0.0f\",\n",
    "    ),\n",
    ")\n",
    "\n",
    "print(s)"
   ]
  },
  {
   "cell_type": "code",
   "execution_count": 5,
   "id": "organizational-sharing",
   "metadata": {},
   "outputs": [
    {
     "name": "stdout",
     "output_type": "stream",
     "text": [
      "uuid: 38021b1d-91ef-40a4-b41d-6e811be554b3\n",
      "label: ACCEL\n",
      "description: \n",
      "data_type: 1\n",
      "data_id: 0000017c\n",
      "channel: 1\n",
      "conversion: startbit: 7\n",
      "bitsize: 8\n",
      "endian: little\n",
      "sign: unsigned\n",
      "scale: 0.3921\n",
      "offset: 0\n",
      "display: unit: \n",
      "min: 0\n",
      "max: 100\n",
      "format: %0.0f\n",
      "hash: sha256:f6299c9b4e45736bb930b866af5073909825032ab8fdf1754ee2148c4eb6899b\n",
      "created_at: 2021-02-12 09:52:39.595806+00:00\n",
      "updated_at: 2021-02-12 09:52:39.595806+00:00\n"
     ]
    }
   ],
   "source": [
    "s = sig.create(\n",
    "    label=\"ACCEL\",\n",
    "    data_type=intdash.DataType.can,\n",
    "    data_id=\"0000017c\",\n",
    "    channel=1,\n",
    "    conversion=intdash.ConversionNumFixedPoint(\n",
    "        startbit=7,\n",
    "        bitsize=8,\n",
    "        endian=\"little\",\n",
    "        sign=\"unsigned\",\n",
    "        scale=0.3921,\n",
    "        offset=0,\n",
    "    ),\n",
    "    display=intdash.Display(\n",
    "        unit=\"\",\n",
    "        min=0,\n",
    "        max=100,\n",
    "        format=\"%0.0f\",\n",
    "    ),\n",
    ")\n",
    "\n",
    "print(s)"
   ]
  }
 ],
 "metadata": {
  "kernelspec": {
   "display_name": "Python 3",
   "language": "python",
   "name": "python3"
  },
  "language_info": {
   "codemirror_mode": {
    "name": "ipython",
    "version": 3
   },
   "file_extension": ".py",
   "mimetype": "text/x-python",
   "name": "python",
   "nbconvert_exporter": "python",
   "pygments_lexer": "ipython3",
   "version": "3.9.0"
  }
 },
 "nbformat": 4,
 "nbformat_minor": 5
}
