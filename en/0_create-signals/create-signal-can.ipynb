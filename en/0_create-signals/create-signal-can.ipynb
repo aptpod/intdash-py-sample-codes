{
 "cells": [
  {
   "cell_type": "markdown",
   "id": "jewish-salem",
   "metadata": {},
   "source": [
    " # Signal definition examples for CAN Type\n",
    " In this example, register signal definitions that convert CAN data into physical values.\n",
    " The following data are assumed as examples. (The data definitions are fictitious.)  \n",
    " \n",
    " | CAN ID    | Data name       | startbit            | bitsize | scale| offset|\n",
    "|:-------|:-----------------------------------------------------|:--------------------------|:--------------------------|:--------------------------|:--------------------------|\n",
    "| 330 (0x0000014A) | Brake on-off                    | 1                  | 1| 1|0|\n",
    "| 330 (0x0000014A) | Accel  | 2         | 8| 0.3 |0|\n"
   ]
  },
  {
   "cell_type": "markdown",
   "id": "hourly-vitamin",
   "metadata": {},
   "source": [
    "## Preparation"
   ]
  },
  {
   "cell_type": "markdown",
   "id": "following-attack",
   "metadata": {},
   "source": [
    "Create a client."
   ]
  },
  {
   "cell_type": "code",
   "execution_count": 1,
   "id": "latin-linux",
   "metadata": {},
   "outputs": [],
   "source": [
    "import intdash \n",
    "\n",
    "client = intdash.Client(\n",
    "    url = \"https://example.intdash.jp\",\n",
    "    edge_token = \"your_token\",\n",
    ")"
   ]
  },
  {
   "cell_type": "markdown",
   "id": "minimal-slovak",
   "metadata": {},
   "source": [
    "Create an access object for signal definitions."
   ]
  },
  {
   "cell_type": "code",
   "execution_count": 2,
   "id": "veterinary-booking",
   "metadata": {},
   "outputs": [],
   "source": [
    "sig = client.signals"
   ]
  },
  {
   "cell_type": "markdown",
   "id": "metallic-pregnancy",
   "metadata": {},
   "source": [
    "## Register signal definitions"
   ]
  },
  {
   "cell_type": "code",
   "execution_count": 3,
   "id": "hybrid-norwegian",
   "metadata": {},
   "outputs": [
    {
     "name": "stdout",
     "output_type": "stream",
     "text": [
      "uuid: f56a6768-778f-4ed1-a190-521aa0394e2c\n",
      "label: BRAKE_ONOFF\n",
      "description: \n",
      "data_type: 1\n",
      "data_id: 0000014A\n",
      "channel: 1\n",
      "conversion: startbit: 1\n",
      "bitsize: 1\n",
      "endian: little\n",
      "sign: unsigned\n",
      "scale: 1\n",
      "offset: 0\n",
      "display: unit: \n",
      "min: 0\n",
      "max: 1\n",
      "format: %0.0f\n",
      "hash: sha256:59237852ddf172257fd1044deffaeecaa72b4cffacb59259e34fa0498f0246d3\n",
      "created_at: 2021-02-16 03:24:36.533150+00:00\n",
      "updated_at: 2021-02-16 03:24:36.533150+00:00\n"
     ]
    }
   ],
   "source": [
    "s = sig.create(\n",
    "    label=\"BRAKE_ONOFF\",\n",
    "    data_type=intdash.DataType.can,\n",
    "    data_id=\"0000014A\",\n",
    "    channel=1,\n",
    "    conversion=intdash.ConversionNumFixedPoint(\n",
    "        startbit=1,\n",
    "        bitsize=1,\n",
    "        endian=\"little\",\n",
    "        sign=\"unsigned\",\n",
    "        scale=1,\n",
    "        offset=0,\n",
    "    ),\n",
    "    display=intdash.Display(\n",
    "        unit=\"\",\n",
    "        min=0,\n",
    "        max=1,\n",
    "        format=\"%0.0f\",\n",
    "    ),\n",
    ")\n",
    "\n",
    "print(s)"
   ]
  },
  {
   "cell_type": "code",
   "execution_count": 4,
   "id": "organizational-sharing",
   "metadata": {},
   "outputs": [
    {
     "name": "stdout",
     "output_type": "stream",
     "text": [
      "uuid: d19efc80-2557-4b5d-8b4d-f5a27e64136f\n",
      "label: ACCEL\n",
      "description: \n",
      "data_type: 1\n",
      "data_id: 0000014A\n",
      "channel: 1\n",
      "conversion: startbit: 2\n",
      "bitsize: 8\n",
      "endian: little\n",
      "sign: unsigned\n",
      "scale: 0.3\n",
      "offset: 0\n",
      "display: unit: \n",
      "min: 0\n",
      "max: 100\n",
      "format: %0.0f\n",
      "hash: sha256:48afd7bb62c73710e4ed4e601182072cd3ce1b57d1754aa77729e63dc30e7dc0\n",
      "created_at: 2021-02-16 03:24:38.566462+00:00\n",
      "updated_at: 2021-02-16 03:24:38.566462+00:00\n"
     ]
    }
   ],
   "source": [
    "s = sig.create(\n",
    "    label=\"ACCEL\",\n",
    "    data_type=intdash.DataType.can,\n",
    "    data_id=\"0000014A\",\n",
    "    channel=1,\n",
    "    conversion=intdash.ConversionNumFixedPoint(\n",
    "        startbit=2,\n",
    "        bitsize=8,\n",
    "        endian=\"little\",\n",
    "        sign=\"unsigned\",\n",
    "        scale=0.3,\n",
    "        offset=0,\n",
    "    ),\n",
    "    display=intdash.Display(\n",
    "        unit=\"\",\n",
    "        min=0,\n",
    "        max=100,\n",
    "        format=\"%0.0f\",\n",
    "    ),\n",
    ")\n",
    "\n",
    "print(s)"
   ]
  }
 ],
 "metadata": {
  "kernelspec": {
   "display_name": "Python 3",
   "language": "python",
   "name": "python3"
  },
  "language_info": {
   "codemirror_mode": {
    "name": "ipython",
    "version": 3
   },
   "file_extension": ".py",
   "mimetype": "text/x-python",
   "name": "python",
   "nbconvert_exporter": "python",
   "pygments_lexer": "ipython3",
   "version": "3.9.0"
  }
 },
 "nbformat": 4,
 "nbformat_minor": 5
}
