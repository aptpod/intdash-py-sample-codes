{
 "cells": [
  {
   "cell_type": "markdown",
   "metadata": {},
   "source": [
    "# Signal definition examples for general sensor type\n",
    "In this example, register signal definitions that convert the data obtained from the iPhone sensor to Float type.\n",
    "* The general sensor type here indicates general-purpose data in the format unique to aptpod.\n",
    "\n",
    "## List of data types\n",
    "\n",
    "The following data types are provided for general sensor data.\n",
    "\n",
    "| ID | English name |\n",
    "|:-------|:--------------------------------------- -------------------------------------------------- -|\n",
    "| 0x0001 | Acceleration |\n",
    "| 0x0002 | Acceleration Including Gravity |\n",
    "| 0x0003 | Gravity |\n",
    "| 0x0004 | Rotation Rate |\n",
    "| 0x0005 | Orientation Angle |\n",
    "| 0x0006 | GeoLocation Coordinate |\n",
    "| 0x0007 | GeoLocation Altitude |\n",
    "| 0x0008 | GeoLocation Accuracy |\n",
    "| 0x0009 | GeoLocation Heading |\n",
    "| 0x000A | GeoLocation Speed |"
   ]
  },
  {
   "cell_type": "markdown",
   "metadata": {},
   "source": [
    "## Preparation"
   ]
  },
  {
   "cell_type": "markdown",
   "metadata": {},
   "source": [
    "Create a client."
   ]
  },
  {
   "cell_type": "code",
   "execution_count": 2,
   "metadata": {},
   "outputs": [],
   "source": [
    "import intdash \n",
    "\n",
    "client = intdash.Client(\n",
    "    url = \"https://example.intdash.jp\",\n",
    "    edge_token = \"your_token\",\n",
    ")"
   ]
  },
  {
   "cell_type": "markdown",
   "metadata": {},
   "source": [
    "Create an access object for signal definitions"
   ]
  },
  {
   "cell_type": "code",
   "execution_count": 3,
   "metadata": {},
   "outputs": [],
   "source": [
    "sig = client.signals"
   ]
  },
  {
   "cell_type": "markdown",
   "metadata": {},
   "source": [
    "## Register signal definitions"
   ]
  },
  {
   "cell_type": "markdown",
   "metadata": {},
   "source": [
    "### 0001 Acceleration"
   ]
  },
  {
   "cell_type": "markdown",
   "metadata": {},
   "source": [
    "3-axis acceleration acting on an object"
   ]
  },
  {
   "cell_type": "code",
   "execution_count": 4,
   "metadata": {
    "scrolled": false
   },
   "outputs": [
    {
     "name": "stdout",
     "output_type": "stream",
     "text": [
      "uuid: 72bda8eb-8d5b-4d14-b2e5-82d51100b8e9\n",
      "label: sp_ACCX\n",
      "description: \n",
      "data_type: 3\n",
      "data_id: 0001\n",
      "channel: 1\n",
      "conversion: startbit: 0\n",
      "bitsize: 32\n",
      "endian: little\n",
      "sign: signed\n",
      "scale: 1e-06\n",
      "offset: 0\n",
      "display: unit: \n",
      "min: -10\n",
      "max: 10\n",
      "format: %f\n",
      "hash: sha256:f0cd5e4e51b201ac66f69ee8e2767368facc9aab942eb64f6772cef6fbfe8d55\n",
      "created_at: 2020-07-15 05:17:36.556291+00:00\n",
      "updated_at: 2020-07-15 05:17:36.556291+00:00\n"
     ]
    }
   ],
   "source": [
    "\n",
    "s = sig.create(\n",
    "    label=\"sp_ACCX\",\n",
    "    data_type=intdash.DataType.general_sensor,\n",
    "    data_id=\"0001\",\n",
    "    channel=1,\n",
    "    conversion=intdash.ConversionNumFixedPoint(\n",
    "        startbit=0,\n",
    "        bitsize=32,\n",
    "        endian=\"little\",\n",
    "        sign=\"signed\",\n",
    "        scale=0.000001,\n",
    "        offset=0,\n",
    "    ),\n",
    "    display=intdash.Display(\n",
    "        unit=\"\",\n",
    "        min=-10,\n",
    "        max=10,\n",
    "        format=\"%f\",\n",
    "    ),\n",
    ")\n",
    "\n",
    "print(s)"
   ]
  },
  {
   "cell_type": "code",
   "execution_count": 5,
   "metadata": {},
   "outputs": [
    {
     "name": "stdout",
     "output_type": "stream",
     "text": [
      "uuid: dbf13472-4486-43e2-a5f8-298ef8a1ec45\n",
      "label: sp_ACCY\n",
      "description: \n",
      "data_type: 3\n",
      "data_id: 0001\n",
      "channel: 1\n",
      "conversion: startbit: 32\n",
      "bitsize: 32\n",
      "endian: little\n",
      "sign: signed\n",
      "scale: 1e-06\n",
      "offset: 0\n",
      "display: unit: \n",
      "min: -10\n",
      "max: 10\n",
      "format: %f\n",
      "hash: sha256:990698da97c7a875ea9fc26d6ddefa503778b8f1063034eadc95775b3a57daeb\n",
      "created_at: 2020-07-15 05:17:37.461946+00:00\n",
      "updated_at: 2020-07-15 05:17:37.461946+00:00\n"
     ]
    }
   ],
   "source": [
    "s = sig.create(\n",
    "    label=\"sp_ACCY\",\n",
    "    data_type=intdash.DataType.general_sensor,\n",
    "    data_id=\"0001\",\n",
    "    channel=1,\n",
    "    conversion=intdash.ConversionNumFixedPoint(\n",
    "        startbit=32,\n",
    "        bitsize=32,\n",
    "        endian=\"little\",\n",
    "        sign=\"signed\",\n",
    "        scale=0.000001,\n",
    "        offset=0,\n",
    "    ),\n",
    "    display=intdash.Display(\n",
    "        unit=\"\",\n",
    "        min=-10,\n",
    "        max=10,\n",
    "        format=\"%f\",\n",
    "    ),\n",
    ")\n",
    "\n",
    "print(s)"
   ]
  },
  {
   "cell_type": "code",
   "execution_count": 6,
   "metadata": {},
   "outputs": [
    {
     "name": "stdout",
     "output_type": "stream",
     "text": [
      "uuid: decc1714-38f2-4d65-bebd-2aacf92852f2\n",
      "label: sp_ACCZ\n",
      "description: \n",
      "data_type: 3\n",
      "data_id: 0001\n",
      "channel: 1\n",
      "conversion: startbit: 64\n",
      "bitsize: 32\n",
      "endian: little\n",
      "sign: signed\n",
      "scale: 1e-06\n",
      "offset: 0\n",
      "display: unit: \n",
      "min: -10\n",
      "max: 10\n",
      "format: %f\n",
      "hash: sha256:d8e103791dbebdf9e2e5d3ef7734f6b753c9ef87696f86d63fb11daeefe882fb\n",
      "created_at: 2020-07-15 05:17:38.439991+00:00\n",
      "updated_at: 2020-07-15 05:17:38.439991+00:00\n"
     ]
    }
   ],
   "source": [
    "s = sig.create(\n",
    "    label=\"sp_ACCZ\",\n",
    "    data_type=intdash.DataType.general_sensor,\n",
    "    data_id=\"0001\",\n",
    "    channel=1,\n",
    "    conversion=intdash.ConversionNumFixedPoint(\n",
    "        startbit=64,\n",
    "        bitsize=32,\n",
    "        endian=\"little\",\n",
    "        sign=\"signed\",\n",
    "        scale=0.000001,\n",
    "        offset=0,\n",
    "    ),\n",
    "    display=intdash.Display(\n",
    "        unit=\"\",\n",
    "        min=-10,\n",
    "        max=10,\n",
    "        format=\"%f\",\n",
    "    ),\n",
    ")\n",
    "\n",
    "print(s)"
   ]
  },
  {
   "cell_type": "markdown",
   "metadata": {},
   "source": [
    "### 0002 Acceleration Including Gravity"
   ]
  },
  {
   "cell_type": "markdown",
   "metadata": {},
   "source": [
    "3-axis acceleration acting on an object, including gravity"
   ]
  },
  {
   "cell_type": "code",
   "execution_count": 7,
   "metadata": {},
   "outputs": [
    {
     "name": "stdout",
     "output_type": "stream",
     "text": [
      "uuid: fb5f07ee-8709-4fec-9d7e-bb2b42df544c\n",
      "label: sp_AGX\n",
      "description: \n",
      "data_type: 3\n",
      "data_id: 0002\n",
      "channel: 1\n",
      "conversion: startbit: 0\n",
      "bitsize: 32\n",
      "endian: little\n",
      "sign: signed\n",
      "scale: 1e-06\n",
      "offset: 0\n",
      "display: unit: \n",
      "min: -10\n",
      "max: 10\n",
      "format: %f\n",
      "hash: sha256:a83e975e7e7789ea532189c7856caec3c9e05712b4c8e55a898a7fb7274e8640\n",
      "created_at: 2019-12-25 01:20:04.461425+00:00\n",
      "updated_at: 2019-12-25 01:20:04.461425+00:00\n"
     ]
    }
   ],
   "source": [
    "\n",
    "s = sig.create(\n",
    "    label=\"sp_AGX\",\n",
    "    data_type=intdash.DataType.general_sensor,\n",
    "    data_id=\"0002\",\n",
    "    channel=1,\n",
    "    conversion=intdash.ConversionNumFixedPoint(\n",
    "        startbit=0,\n",
    "        bitsize=32,\n",
    "        endian=\"little\",\n",
    "        sign=\"signed\",\n",
    "        scale=0.000001,\n",
    "        offset=0,\n",
    "    ),\n",
    "    display=intdash.Display(\n",
    "        unit=\"\",\n",
    "        min=-10,\n",
    "        max=10,\n",
    "        format=\"%f\",\n",
    "    ),\n",
    ")\n",
    "\n",
    "print(s)"
   ]
  },
  {
   "cell_type": "code",
   "execution_count": 8,
   "metadata": {},
   "outputs": [
    {
     "name": "stdout",
     "output_type": "stream",
     "text": [
      "uuid: 98d47d86-b6c5-4353-9d68-cb4f7422f263\n",
      "label: sp_AGY\n",
      "description: \n",
      "data_type: 3\n",
      "data_id: 0002\n",
      "channel: 1\n",
      "conversion: startbit: 32\n",
      "bitsize: 32\n",
      "endian: little\n",
      "sign: signed\n",
      "scale: 1e-06\n",
      "offset: 0\n",
      "display: unit: \n",
      "min: -10\n",
      "max: 10\n",
      "format: %f\n",
      "hash: sha256:63201d2dfb257f3f8d0faf8d39c610ff8e55ed4895b47548d6432fab6799dd8f\n",
      "created_at: 2019-12-25 01:20:06.923193+00:00\n",
      "updated_at: 2019-12-25 01:20:06.923193+00:00\n"
     ]
    }
   ],
   "source": [
    "\n",
    "s = sig.create(\n",
    "    label=\"sp_AGY\",\n",
    "    data_type=intdash.DataType.general_sensor,\n",
    "    data_id=\"0002\",\n",
    "    channel=1,\n",
    "    conversion=intdash.ConversionNumFixedPoint(\n",
    "        startbit=32,\n",
    "        bitsize=32,\n",
    "        endian=\"little\",\n",
    "        sign=\"signed\",\n",
    "        scale=0.000001,\n",
    "        offset=0,\n",
    "    ),\n",
    "    display=intdash.Display(\n",
    "        unit=\"\",\n",
    "        min=-10,\n",
    "        max=10,\n",
    "        format=\"%f\",\n",
    "    ),\n",
    ")\n",
    "\n",
    "print(s)"
   ]
  },
  {
   "cell_type": "code",
   "execution_count": 9,
   "metadata": {},
   "outputs": [
    {
     "name": "stdout",
     "output_type": "stream",
     "text": [
      "uuid: c6f2c096-9caf-425d-bb33-d47c4622cd50\n",
      "label: sp_AGZ\n",
      "description: \n",
      "data_type: 3\n",
      "data_id: 0002\n",
      "channel: 1\n",
      "conversion: startbit: 64\n",
      "bitsize: 32\n",
      "endian: little\n",
      "sign: signed\n",
      "scale: 1e-06\n",
      "offset: 0\n",
      "display: unit: \n",
      "min: -10\n",
      "max: 10\n",
      "format: %f\n",
      "hash: sha256:e602b5a4e3259a2518d92e44cb2d3fe4d25e06c4109c83bb6e3e2116fcc00eac\n",
      "created_at: 2019-12-25 01:20:10.495558+00:00\n",
      "updated_at: 2019-12-25 01:20:10.495558+00:00\n"
     ]
    }
   ],
   "source": [
    "\n",
    "s = sig.create(\n",
    "    label=\"sp_AGZ\",\n",
    "    data_type=intdash.DataType.general_sensor,\n",
    "    data_id=\"0002\",\n",
    "    channel=1,\n",
    "    conversion=intdash.ConversionNumFixedPoint(\n",
    "        startbit=64,\n",
    "        bitsize=32,\n",
    "        endian=\"little\",\n",
    "        sign=\"signed\",\n",
    "        scale=0.000001,\n",
    "        offset=0,\n",
    "    ),\n",
    "    display=intdash.Display(\n",
    "        unit=\"\",\n",
    "        min=-10,\n",
    "        max=10,\n",
    "        format=\"%f\",\n",
    "    ),\n",
    ")\n",
    "\n",
    "print(s)"
   ]
  },
  {
   "cell_type": "markdown",
   "metadata": {},
   "source": [
    "### 0003 Gravity"
   ]
  },
  {
   "cell_type": "markdown",
   "metadata": {},
   "source": [
    "3-axis gravitational acceleration acting on an object"
   ]
  },
  {
   "cell_type": "code",
   "execution_count": 10,
   "metadata": {},
   "outputs": [
    {
     "name": "stdout",
     "output_type": "stream",
     "text": [
      "uuid: 84f2917d-0c2f-47da-86a3-2657c18a3245\n",
      "label: sp_GX\n",
      "description: \n",
      "data_type: 3\n",
      "data_id: 0003\n",
      "channel: 1\n",
      "conversion: startbit: 0\n",
      "bitsize: 32\n",
      "endian: little\n",
      "sign: signed\n",
      "scale: 1e-06\n",
      "offset: 0\n",
      "display: unit: \n",
      "min: -10\n",
      "max: 10\n",
      "format: %f\n",
      "hash: sha256:e59434b92513fd9bb62869b4181059afaf994ad10c5c28748f6699938f014cd8\n",
      "created_at: 2019-12-25 01:20:13.723782+00:00\n",
      "updated_at: 2019-12-25 01:20:13.723782+00:00\n"
     ]
    }
   ],
   "source": [
    "\n",
    "s = sig.create(\n",
    "    label=\"sp_GX\",\n",
    "    data_type=intdash.DataType.general_sensor,\n",
    "    data_id=\"0003\",\n",
    "    channel=1,\n",
    "    conversion=intdash.ConversionNumFixedPoint(\n",
    "        startbit=0,\n",
    "        bitsize=32,\n",
    "        endian=\"little\",\n",
    "        sign=\"signed\",\n",
    "        scale=0.000001,\n",
    "        offset=0,\n",
    "    ),\n",
    "    display=intdash.Display(\n",
    "        unit=\"\",\n",
    "        min=-10,\n",
    "        max=10,\n",
    "        format=\"%f\",\n",
    "    ),\n",
    ")\n",
    "\n",
    "print(s)"
   ]
  },
  {
   "cell_type": "code",
   "execution_count": 11,
   "metadata": {},
   "outputs": [
    {
     "name": "stdout",
     "output_type": "stream",
     "text": [
      "uuid: 45e3e0b6-93c9-4c03-9ee5-7f165804c2aa\n",
      "label: sp_GY\n",
      "description: \n",
      "data_type: 3\n",
      "data_id: 0003\n",
      "channel: 1\n",
      "conversion: startbit: 32\n",
      "bitsize: 32\n",
      "endian: little\n",
      "sign: signed\n",
      "scale: 1e-06\n",
      "offset: 0\n",
      "display: unit: \n",
      "min: -10\n",
      "max: 10\n",
      "format: %f\n",
      "hash: sha256:357ab8dc9b9d9e6200a2b53ad82eeab6b02cf40665696575c58fcf8bacb0293f\n",
      "created_at: 2019-12-25 01:20:33.386609+00:00\n",
      "updated_at: 2019-12-25 01:20:33.386609+00:00\n"
     ]
    }
   ],
   "source": [
    "\n",
    "s = sig.create(\n",
    "    label=\"sp_GY\",\n",
    "    data_type=intdash.DataType.general_sensor,\n",
    "    data_id=\"0003\",\n",
    "    channel=1,\n",
    "    conversion=intdash.ConversionNumFixedPoint(\n",
    "        startbit=32,\n",
    "        bitsize=32,\n",
    "        endian=\"little\",\n",
    "        sign=\"signed\",\n",
    "        scale=0.000001,\n",
    "        offset=0,\n",
    "    ),\n",
    "    display=intdash.Display(\n",
    "        unit=\"\",\n",
    "        min=-10,\n",
    "        max=10,\n",
    "        format=\"%f\",\n",
    "    ),\n",
    ")\n",
    "\n",
    "print(s)"
   ]
  },
  {
   "cell_type": "code",
   "execution_count": 12,
   "metadata": {},
   "outputs": [
    {
     "name": "stdout",
     "output_type": "stream",
     "text": [
      "uuid: 582a75b4-abe2-4443-9956-fb5a4fcf9f94\n",
      "label: sp_GZ\n",
      "description: \n",
      "data_type: 3\n",
      "data_id: 0003\n",
      "channel: 1\n",
      "conversion: startbit: 64\n",
      "bitsize: 32\n",
      "endian: little\n",
      "sign: signed\n",
      "scale: 1e-06\n",
      "offset: 0\n",
      "display: unit: \n",
      "min: -10\n",
      "max: 10\n",
      "format: %f\n",
      "hash: sha256:0776a43d411d8bfb5075fdfeb3ab8894a305084af27437abc13c933fff9cc173\n",
      "created_at: 2019-12-25 01:20:37.453240+00:00\n",
      "updated_at: 2019-12-25 01:20:37.453240+00:00\n"
     ]
    }
   ],
   "source": [
    "\n",
    "s = sig.create(\n",
    "    label=\"sp_GZ\",\n",
    "    data_type=intdash.DataType.general_sensor,\n",
    "    data_id=\"0003\",\n",
    "    channel=1,\n",
    "    conversion=intdash.ConversionNumFixedPoint(\n",
    "        startbit=64,\n",
    "        bitsize=32,\n",
    "        endian=\"little\",\n",
    "        sign=\"signed\",\n",
    "        scale=0.000001,\n",
    "        offset=0,\n",
    "    ),\n",
    "    display=intdash.Display(\n",
    "        unit=\"\",\n",
    "        min=-10,\n",
    "        max=10,\n",
    "        format=\"%f\",\n",
    "    ),\n",
    ")\n",
    "\n",
    "print(s)"
   ]
  },
  {
   "cell_type": "markdown",
   "metadata": {},
   "source": [
    "### 0004 Rotation Rate"
   ]
  },
  {
   "cell_type": "markdown",
   "metadata": {},
   "source": [
    "Three-axis rotational speed of the object"
   ]
  },
  {
   "cell_type": "code",
   "execution_count": 13,
   "metadata": {},
   "outputs": [
    {
     "name": "stdout",
     "output_type": "stream",
     "text": [
      "uuid: 4b84fa9c-da36-4005-83cf-7f9e2d4ea003\n",
      "label: sp_RRA\n",
      "description: \n",
      "data_type: 3\n",
      "data_id: 0004\n",
      "channel: 1\n",
      "conversion: startbit: 0\n",
      "bitsize: 32\n",
      "endian: little\n",
      "sign: signed\n",
      "scale: 1e-05\n",
      "offset: 0\n",
      "display: unit: \n",
      "min: -10\n",
      "max: 10\n",
      "format: %f\n",
      "hash: sha256:80047bc729912cbf110c53499511f388dff0b47cb07cbbe80a7038af754552e5\n",
      "created_at: 2019-12-25 01:20:55.108438+00:00\n",
      "updated_at: 2019-12-25 01:20:55.108438+00:00\n"
     ]
    }
   ],
   "source": [
    "\n",
    "s = sig.create(\n",
    "    label=\"sp_RRA\",\n",
    "    data_type=intdash.DataType.general_sensor,\n",
    "    data_id=\"0004\",\n",
    "    channel=1,\n",
    "    conversion=intdash.ConversionNumFixedPoint(\n",
    "        startbit=0,\n",
    "        bitsize=32,\n",
    "        endian=\"little\",\n",
    "        sign=\"signed\",\n",
    "        scale=0.00001,\n",
    "        offset=0,\n",
    "    ),\n",
    "    display=intdash.Display(\n",
    "        unit=\"\",\n",
    "        min=-10,\n",
    "        max=10,\n",
    "        format=\"%f\",\n",
    "    ),\n",
    ")\n",
    "\n",
    "print(s)"
   ]
  },
  {
   "cell_type": "code",
   "execution_count": 14,
   "metadata": {},
   "outputs": [
    {
     "name": "stdout",
     "output_type": "stream",
     "text": [
      "uuid: ef6e980a-1d34-4aa9-baf6-8db1eb9294d4\n",
      "label: sp_RRB\n",
      "description: \n",
      "data_type: 3\n",
      "data_id: 0004\n",
      "channel: 1\n",
      "conversion: startbit: 32\n",
      "bitsize: 32\n",
      "endian: little\n",
      "sign: signed\n",
      "scale: 1e-05\n",
      "offset: 0\n",
      "display: unit: \n",
      "min: -10\n",
      "max: 10\n",
      "format: %f\n",
      "hash: sha256:3fe864399615c48254eb0c6776aaee3238d53c5e4c2e362fc07b59e3281a0562\n",
      "created_at: 2019-12-25 01:20:59.361204+00:00\n",
      "updated_at: 2019-12-25 01:20:59.361204+00:00\n"
     ]
    }
   ],
   "source": [
    "\n",
    "s = sig.create(\n",
    "    label=\"sp_RRB\",\n",
    "    data_type=intdash.DataType.general_sensor,\n",
    "    data_id=\"0004\",\n",
    "    channel=1,\n",
    "    conversion=intdash.ConversionNumFixedPoint(\n",
    "        startbit=32,\n",
    "        bitsize=32,\n",
    "        endian=\"little\",\n",
    "        sign=\"signed\",\n",
    "        scale=0.00001,\n",
    "        offset=0,\n",
    "    ),\n",
    "    display=intdash.Display(\n",
    "        unit=\"\",\n",
    "        min=-10,\n",
    "        max=10,\n",
    "        format=\"%f\",\n",
    "    ),\n",
    ")\n",
    "\n",
    "print(s)"
   ]
  },
  {
   "cell_type": "code",
   "execution_count": 15,
   "metadata": {},
   "outputs": [
    {
     "name": "stdout",
     "output_type": "stream",
     "text": [
      "uuid: 0bbef4d3-c5c8-4309-9849-55eb4d35c2f0\n",
      "label: sp_RRG\n",
      "description: \n",
      "data_type: 3\n",
      "data_id: 0004\n",
      "channel: 1\n",
      "conversion: startbit: 64\n",
      "bitsize: 32\n",
      "endian: little\n",
      "sign: signed\n",
      "scale: 1e-05\n",
      "offset: 0\n",
      "display: unit: \n",
      "min: -10\n",
      "max: 10\n",
      "format: %f\n",
      "hash: sha256:99faab5d77fcf7eb4dbae8a015b06977304efb0d02d9be4b41d7b4b645d94a07\n",
      "created_at: 2019-12-25 01:21:05.578470+00:00\n",
      "updated_at: 2019-12-25 01:21:05.578470+00:00\n"
     ]
    }
   ],
   "source": [
    "\n",
    "s = sig.create(\n",
    "    label=\"sp_RRG\",\n",
    "    data_type=intdash.DataType.general_sensor,\n",
    "    data_id=\"0004\",\n",
    "    channel=1,\n",
    "    conversion=intdash.ConversionNumFixedPoint(\n",
    "        startbit=64,\n",
    "        bitsize=32,\n",
    "        endian=\"little\",\n",
    "        sign=\"signed\",\n",
    "        scale=0.00001,\n",
    "        offset=0,\n",
    "    ),\n",
    "    display=intdash.Display(\n",
    "        unit=\"\",\n",
    "        min=-10,\n",
    "        max=10,\n",
    "        format=\"%f\",\n",
    "    ),\n",
    ")\n",
    "\n",
    "print(s)"
   ]
  },
  {
   "cell_type": "markdown",
   "metadata": {},
   "source": [
    "### 0005 Orientation Angle"
   ]
  },
  {
   "cell_type": "markdown",
   "metadata": {},
   "source": [
    "Rotation angle of the three axes of the object"
   ]
  },
  {
   "cell_type": "code",
   "execution_count": 16,
   "metadata": {},
   "outputs": [
    {
     "name": "stdout",
     "output_type": "stream",
     "text": [
      "uuid: d2af6561-0706-4f32-a684-17dde8dcbb3e\n",
      "label: sp_OAA\n",
      "description: \n",
      "data_type: 3\n",
      "data_id: 0005\n",
      "channel: 1\n",
      "conversion: startbit: 0\n",
      "bitsize: 32\n",
      "endian: little\n",
      "sign: signed\n",
      "scale: 1e-06\n",
      "offset: 0\n",
      "display: unit: \n",
      "min: -10\n",
      "max: 10\n",
      "format: %f\n",
      "hash: sha256:990c1d1ce6c85d36705e5feb3b304072fc50ff271f3a2fab02f1d1dc02a5f225\n",
      "created_at: 2019-12-25 01:21:19.043450+00:00\n",
      "updated_at: 2019-12-25 01:21:19.043450+00:00\n"
     ]
    }
   ],
   "source": [
    "\n",
    "s = sig.create(\n",
    "    label=\"sp_OAA\",\n",
    "    data_type=intdash.DataType.general_sensor,\n",
    "    data_id=\"0005\",\n",
    "    channel=1,\n",
    "    conversion=intdash.ConversionNumFixedPoint(\n",
    "        startbit=0,\n",
    "        bitsize=32,\n",
    "        endian=\"little\",\n",
    "        sign=\"signed\",\n",
    "        scale=0.000001,\n",
    "        offset=0,\n",
    "    ),\n",
    "    display=intdash.Display(\n",
    "        unit=\"\",\n",
    "        min=-10,\n",
    "        max=10,\n",
    "        format=\"%f\",\n",
    "    ),\n",
    ")\n",
    "\n",
    "print(s)"
   ]
  },
  {
   "cell_type": "code",
   "execution_count": 17,
   "metadata": {},
   "outputs": [
    {
     "name": "stdout",
     "output_type": "stream",
     "text": [
      "uuid: a80c39d8-1615-44e8-bc92-346389c87895\n",
      "label: sp_OAB\n",
      "description: \n",
      "data_type: 3\n",
      "data_id: 0005\n",
      "channel: 1\n",
      "conversion: startbit: 32\n",
      "bitsize: 32\n",
      "endian: little\n",
      "sign: signed\n",
      "scale: 1e-06\n",
      "offset: 0\n",
      "display: unit: \n",
      "min: -10\n",
      "max: 10\n",
      "format: %f\n",
      "hash: sha256:33e252f7e2cd45a2403191c84e0f685ae9a939d21be6273901c9e77261739da9\n",
      "created_at: 2019-12-25 01:21:26.354187+00:00\n",
      "updated_at: 2019-12-25 01:21:26.354187+00:00\n"
     ]
    }
   ],
   "source": [
    "\n",
    "s = sig.create(\n",
    "    label=\"sp_OAB\",\n",
    "    data_type=intdash.DataType.general_sensor,\n",
    "    data_id=\"0005\",\n",
    "    channel=1,\n",
    "    conversion=intdash.ConversionNumFixedPoint(\n",
    "        startbit=32,\n",
    "        bitsize=32,\n",
    "        endian=\"little\",\n",
    "        sign=\"signed\",\n",
    "        scale=0.000001,\n",
    "        offset=0,\n",
    "    ),\n",
    "    display=intdash.Display(\n",
    "        unit=\"\",\n",
    "        min=-10,\n",
    "        max=10,\n",
    "        format=\"%f\",\n",
    "    ),\n",
    ")\n",
    "\n",
    "print(s)"
   ]
  },
  {
   "cell_type": "code",
   "execution_count": 18,
   "metadata": {},
   "outputs": [
    {
     "name": "stdout",
     "output_type": "stream",
     "text": [
      "uuid: 9bf2a747-b3e5-47bb-918d-daf565e547e7\n",
      "label: sp_OAG\n",
      "description: \n",
      "data_type: 3\n",
      "data_id: 0005\n",
      "channel: 1\n",
      "conversion: startbit: 64\n",
      "bitsize: 32\n",
      "endian: little\n",
      "sign: signed\n",
      "scale: 1e-06\n",
      "offset: 0\n",
      "display: unit: \n",
      "min: -10\n",
      "max: 10\n",
      "format: %f\n",
      "hash: sha256:8892d36ea59bd618a8b956cc54bdff65974465d3a48fb9b5623f5244db862f05\n",
      "created_at: 2019-12-25 01:21:30.923535+00:00\n",
      "updated_at: 2019-12-25 01:21:30.923535+00:00\n"
     ]
    }
   ],
   "source": [
    "\n",
    "s = sig.create(\n",
    "    label=\"sp_OAG\",\n",
    "    data_type=intdash.DataType.general_sensor,\n",
    "    data_id=\"0005\",\n",
    "    channel=1,\n",
    "    conversion=intdash.ConversionNumFixedPoint(\n",
    "        startbit=64,\n",
    "        bitsize=32,\n",
    "        endian=\"little\",\n",
    "        sign=\"signed\",\n",
    "        scale=0.000001,\n",
    "        offset=0,\n",
    "    ),\n",
    "    display=intdash.Display(\n",
    "        unit=\"\",\n",
    "        min=-10,\n",
    "        max=10,\n",
    "        format=\"%f\",\n",
    "    ),\n",
    ")\n",
    "\n",
    "print(s)"
   ]
  },
  {
   "cell_type": "markdown",
   "metadata": {},
   "source": [
    "### 0006 GeoLocation Coordinate"
   ]
  },
  {
   "cell_type": "markdown",
   "metadata": {},
   "source": [
    "Geographic location - coordinates"
   ]
  },
  {
   "cell_type": "code",
   "execution_count": 15,
   "metadata": {},
   "outputs": [
    {
     "name": "stdout",
     "output_type": "stream",
     "text": [
      "uuid: d0be4b6c-9566-454e-8ec8-0c9880e54a97\n",
      "label: sp_lat\n",
      "description: \n",
      "data_type: 3\n",
      "data_id: 0006\n",
      "channel: 1\n",
      "conversion: startbit: 0\n",
      "bitsize: 32\n",
      "endian: little\n",
      "sign: signed\n",
      "scale: 1e-07\n",
      "offset: 0\n",
      "display: unit: \n",
      "min: -10\n",
      "max: 10\n",
      "format: %f\n",
      "hash: sha256:8f27df1ea5ad1ccb30539d3e14ca848b0a7675871134b5e24b7706551a653cc5\n",
      "created_at: 2019-12-24 05:54:29.200961+00:00\n",
      "updated_at: 2019-12-24 05:54:29.200961+00:00\n"
     ]
    }
   ],
   "source": [
    "s = sig.create(\n",
    "    label=\"sp_lat\",\n",
    "    data_type=intdash.DataType.general_sensor,\n",
    "    data_id=\"0006\",\n",
    "    channel=1,\n",
    "    conversion=intdash.ConversionNumFixedPoint(\n",
    "        startbit=0,\n",
    "        bitsize=32,\n",
    "        endian=\"little\",\n",
    "        sign=\"signed\",\n",
    "        scale=0.0000001,\n",
    "        offset=0,\n",
    "    ),\n",
    "    display=intdash.Display(\n",
    "        unit=\"\",\n",
    "        min=-10,\n",
    "        max=10,\n",
    "        format=\"%f\",\n",
    "    ),\n",
    ")\n",
    "\n",
    "print(s)"
   ]
  },
  {
   "cell_type": "code",
   "execution_count": 16,
   "metadata": {},
   "outputs": [
    {
     "name": "stdout",
     "output_type": "stream",
     "text": [
      "uuid: fa3fcafe-e9ec-4d70-961d-953d42bfaf27\n",
      "label: sp_lng\n",
      "description: \n",
      "data_type: 3\n",
      "data_id: 0006\n",
      "channel: 1\n",
      "conversion: startbit: 32\n",
      "bitsize: 32\n",
      "endian: little\n",
      "sign: signed\n",
      "scale: 1e-07\n",
      "offset: 0\n",
      "display: unit: \n",
      "min: -10\n",
      "max: 10\n",
      "format: %f\n",
      "hash: sha256:9e335709ab26e90dbd418432ffb1d533d2ef0eec3957ec2aa4d8507b5b184e0f\n",
      "created_at: 2019-12-24 05:54:31.004525+00:00\n",
      "updated_at: 2019-12-24 05:54:31.004525+00:00\n"
     ]
    }
   ],
   "source": [
    "s = sig.create(\n",
    "    label=\"sp_lng\",\n",
    "    data_type=intdash.DataType.general_sensor,\n",
    "    data_id=\"0006\",\n",
    "    channel=1,\n",
    "    conversion=intdash.ConversionNumFixedPoint(\n",
    "        startbit=32,\n",
    "        bitsize=32,\n",
    "        endian=\"little\",\n",
    "        sign=\"signed\",\n",
    "        scale=0.0000001,\n",
    "        offset=0,\n",
    "    ),\n",
    "    display=intdash.Display(\n",
    "        unit=\"\",\n",
    "        min=-10,\n",
    "        max=10,\n",
    "        format=\"%f\",\n",
    "    ),\n",
    ")\n",
    "\n",
    "print(s)"
   ]
  },
  {
   "cell_type": "markdown",
   "metadata": {},
   "source": [
    "### 0007 GeoLocation Altitude"
   ]
  },
  {
   "cell_type": "markdown",
   "metadata": {},
   "source": [
    "Geographic location - altitude"
   ]
  },
  {
   "cell_type": "code",
   "execution_count": 19,
   "metadata": {},
   "outputs": [
    {
     "name": "stdout",
     "output_type": "stream",
     "text": [
      "uuid: 610105c2-b868-4ee2-92e3-659858cd6cd9\n",
      "label: sp_alt\n",
      "description: \n",
      "data_type: 3\n",
      "data_id: 0007\n",
      "channel: 1\n",
      "conversion: startbit: 0\n",
      "bitsize: 32\n",
      "endian: little\n",
      "sign: signed\n",
      "scale: 0.001\n",
      "offset: 0\n",
      "display: unit: \n",
      "min: -10\n",
      "max: 10\n",
      "format: %f\n",
      "hash: sha256:c28a29252fe7bc651f79a6270bfe77715444e02dffd2ffde623f7b77d5d1bc04\n",
      "created_at: 2019-12-25 01:21:49.848413+00:00\n",
      "updated_at: 2019-12-25 01:21:49.848413+00:00\n"
     ]
    }
   ],
   "source": [
    "s = sig.create(\n",
    "    label=\"sp_alt\",\n",
    "    data_type=intdash.DataType.general_sensor,\n",
    "    data_id=\"0007\",\n",
    "    channel=1,\n",
    "    conversion=intdash.ConversionNumFixedPoint(\n",
    "        startbit=0,\n",
    "        bitsize=32,\n",
    "        endian=\"little\",\n",
    "        sign=\"signed\",\n",
    "        scale=0.001,\n",
    "        offset=0,\n",
    "    ),\n",
    "    display=intdash.Display(\n",
    "        unit=\"\",\n",
    "        min=-10,\n",
    "        max=10,\n",
    "        format=\"%f\",\n",
    "    ),\n",
    ")\n",
    "\n",
    "print(s)"
   ]
  },
  {
   "cell_type": "markdown",
   "metadata": {},
   "source": [
    "### 0008 GeoLocation Accuracy"
   ]
  },
  {
   "cell_type": "markdown",
   "metadata": {},
   "source": [
    "Geographic location - accuracy"
   ]
  },
  {
   "cell_type": "code",
   "execution_count": 20,
   "metadata": {},
   "outputs": [
    {
     "name": "stdout",
     "output_type": "stream",
     "text": [
      "uuid: ceada781-4e3a-4371-a556-8609f910f81f\n",
      "label: sp_aoc\n",
      "description: \n",
      "data_type: 3\n",
      "data_id: 0008\n",
      "channel: 1\n",
      "conversion: startbit: 0\n",
      "bitsize: 32\n",
      "endian: little\n",
      "sign: signed\n",
      "scale: 0.001\n",
      "offset: 0\n",
      "display: unit: \n",
      "min: -10\n",
      "max: 10\n",
      "format: %f\n",
      "hash: sha256:9981d3e04c2397ce598f7c670c72b82668452f2c75cccc2ef77c8fa40a6da0ae\n",
      "created_at: 2019-12-25 01:22:09.775292+00:00\n",
      "updated_at: 2019-12-25 01:22:09.775292+00:00\n"
     ]
    }
   ],
   "source": [
    "s = sig.create(\n",
    "    label=\"sp_aoc\",\n",
    "    data_type=intdash.DataType.general_sensor,\n",
    "    data_id=\"0008\",\n",
    "    channel=1,\n",
    "    conversion=intdash.ConversionNumFixedPoint(\n",
    "        startbit=0,\n",
    "        bitsize=32,\n",
    "        endian=\"little\",\n",
    "        sign=\"signed\",\n",
    "        scale=0.001,\n",
    "        offset=0,\n",
    "    ),\n",
    "    display=intdash.Display(\n",
    "        unit=\"\",\n",
    "        min=-10,\n",
    "        max=10,\n",
    "        format=\"%f\",\n",
    "    ),\n",
    ")\n",
    "\n",
    "print(s)"
   ]
  },
  {
   "cell_type": "code",
   "execution_count": 21,
   "metadata": {},
   "outputs": [
    {
     "name": "stdout",
     "output_type": "stream",
     "text": [
      "uuid: 7284372a-49e2-48e4-a0e3-a3c7d986c852\n",
      "label: sp_aoa\n",
      "description: \n",
      "data_type: 3\n",
      "data_id: 0008\n",
      "channel: 1\n",
      "conversion: startbit: 32\n",
      "bitsize: 32\n",
      "endian: little\n",
      "sign: signed\n",
      "scale: 0.001\n",
      "offset: 0\n",
      "display: unit: \n",
      "min: -10\n",
      "max: 10\n",
      "format: %f\n",
      "hash: sha256:e5348703f1ecb9bb45f4a186e965e52045e225cf6cf43b67a9f954a47cd9be28\n",
      "created_at: 2019-12-25 01:22:13.825649+00:00\n",
      "updated_at: 2019-12-25 01:22:13.825649+00:00\n"
     ]
    }
   ],
   "source": [
    "s = sig.create(\n",
    "    label=\"sp_aoa\",\n",
    "    data_type=intdash.DataType.general_sensor,\n",
    "    data_id=\"0008\",\n",
    "    channel=1,\n",
    "    conversion=intdash.ConversionNumFixedPoint(\n",
    "        startbit=32,\n",
    "        bitsize=32,\n",
    "        endian=\"little\",\n",
    "        sign=\"signed\",\n",
    "        scale=0.001,\n",
    "        offset=0,\n",
    "    ),\n",
    "    display=intdash.Display(\n",
    "        unit=\"\",\n",
    "        min=-10,\n",
    "        max=10,\n",
    "        format=\"%f\",\n",
    "    ),\n",
    ")\n",
    "\n",
    "print(s)"
   ]
  },
  {
   "cell_type": "markdown",
   "metadata": {},
   "source": [
    "### 0009 GeoLocation Heading"
   ]
  },
  {
   "cell_type": "markdown",
   "metadata": {},
   "source": [
    "Geographical location - heading"
   ]
  },
  {
   "cell_type": "code",
   "execution_count": 17,
   "metadata": {},
   "outputs": [
    {
     "name": "stdout",
     "output_type": "stream",
     "text": [
      "uuid: 783cd62e-5aad-4264-b981-d376196fb805\n",
      "label: sp_head\n",
      "description: \n",
      "data_type: 3\n",
      "data_id: 0009\n",
      "channel: 1\n",
      "conversion: startbit: 0\n",
      "bitsize: 32\n",
      "endian: little\n",
      "sign: signed\n",
      "scale: 1e-06\n",
      "offset: 0\n",
      "display: unit: \n",
      "min: -10\n",
      "max: 10\n",
      "format: %f\n",
      "hash: sha256:4a5756003cbf89ed2f5785d4cd4c5cc0413da90c7aba4bf410aa656c0501bc6d\n",
      "created_at: 2019-12-24 05:54:33.881841+00:00\n",
      "updated_at: 2019-12-24 05:54:33.881841+00:00\n"
     ]
    }
   ],
   "source": [
    "s = sig.create(\n",
    "    label=\"sp_head\",\n",
    "    data_type=intdash.DataType.general_sensor,\n",
    "    data_id=\"0009\",\n",
    "    channel=1,\n",
    "    conversion=intdash.ConversionNumFixedPoint(\n",
    "        startbit=0,\n",
    "        bitsize=32,\n",
    "        endian=\"little\",\n",
    "        sign=\"signed\",\n",
    "        scale=0.000001,\n",
    "        offset=0,\n",
    "    ),\n",
    "    display=intdash.Display(\n",
    "        unit=\"\",\n",
    "        min=-10,\n",
    "        max=10,\n",
    "        format=\"%f\",\n",
    "    ),\n",
    ")\n",
    "\n",
    "print(s)"
   ]
  },
  {
   "cell_type": "markdown",
   "metadata": {},
   "source": [
    "### 000A GeoLocation Speed"
   ]
  },
  {
   "cell_type": "markdown",
   "metadata": {},
   "source": [
    "Geographic location - travel speed"
   ]
  },
  {
   "cell_type": "code",
   "execution_count": 18,
   "metadata": {},
   "outputs": [
    {
     "name": "stdout",
     "output_type": "stream",
     "text": [
      "uuid: c26dbbf9-f7d1-434f-920a-edf26b985fbb\n",
      "label: sp_spd\n",
      "description: \n",
      "data_type: 3\n",
      "data_id: 000A\n",
      "channel: 1\n",
      "conversion: startbit: 0\n",
      "bitsize: 32\n",
      "endian: little\n",
      "sign: signed\n",
      "scale: 0.001\n",
      "offset: 0\n",
      "display: unit: \n",
      "min: -10\n",
      "max: 10\n",
      "format: %f\n",
      "hash: sha256:4ca841d8e025cc9c76e9fc1bc51c316af924b7e28d3466bdee4b4f1e8b95ec92\n",
      "created_at: 2019-12-24 05:54:35.568991+00:00\n",
      "updated_at: 2019-12-24 05:54:35.568991+00:00\n"
     ]
    }
   ],
   "source": [
    "s = sig.create(\n",
    "    label=\"sp_spd\",\n",
    "    data_type=intdash.DataType.general_sensor,\n",
    "    data_id=\"000a\",\n",
    "    channel=1,\n",
    "    conversion=intdash.ConversionNumFixedPoint(\n",
    "        startbit=0,\n",
    "        bitsize=32,\n",
    "        endian=\"little\",\n",
    "        sign=\"signed\",\n",
    "        scale=0.001,\n",
    "        offset=0,\n",
    "    ),\n",
    "    display=intdash.Display(\n",
    "        unit=\"\",\n",
    "        min=-10,\n",
    "        max=10,\n",
    "        format=\"%f\",\n",
    "    ),\n",
    ")\n",
    "\n",
    "print(s)"
   ]
  }
 ],
 "metadata": {
  "kernelspec": {
   "display_name": "Python 3.7.5 64-bit",
   "language": "python",
   "name": "python37564bitd993af874e32485587e2a22cba946ecb"
  },
  "language_info": {
   "codemirror_mode": {
    "name": "ipython",
    "version": 3
   },
   "file_extension": ".py",
   "mimetype": "text/x-python",
   "name": "python",
   "nbconvert_exporter": "python",
   "pygments_lexer": "ipython3",
   "version": "3.7.6"
  }
 },
 "nbformat": 4,
 "nbformat_minor": 2
}
